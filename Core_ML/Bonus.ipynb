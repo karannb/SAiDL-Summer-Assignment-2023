{
  "cells": [
    {
      "cell_type": "markdown",
      "id": "84941a4f",
      "metadata": {
        "id": "84941a4f"
      },
      "source": [
        "# SAiDL 2023, Core ML Bonus Part"
      ]
    },
    {
      "cell_type": "markdown",
      "id": "2ed02381",
      "metadata": {
        "id": "2ed02381"
      },
      "source": [
        "## Transformer based architecture in place of a CNN"
      ]
    },
    {
      "cell_type": "markdown",
      "id": "6efb6f8d",
      "metadata": {
        "id": "6efb6f8d"
      },
      "source": [
        "### Packages -"
      ]
    },
    {
      "cell_type": "code",
      "execution_count": 1,
      "id": "8914f193",
      "metadata": {
        "id": "8914f193"
      },
      "outputs": [],
      "source": [
        "import torch\n",
        "import torchvision\n",
        "import torchvision.transforms as transforms\n",
        "import torch.optim as optim\n",
        "import torch.nn as nn\n",
        "import torch.nn.functional as F\n",
        "import matplotlib.pyplot as plt\n",
        "import numpy as np\n",
        "import time\n",
        "\n",
        "torch.random.manual_seed(1)\n",
        "np.random.seed(1)"
      ]
    },
    {
      "cell_type": "markdown",
      "id": "b197d8f8",
      "metadata": {
        "id": "b197d8f8"
      },
      "source": [
        "### HyperParameters -"
      ]
    },
    {
      "cell_type": "code",
      "execution_count": 2,
      "id": "5ff52a43",
      "metadata": {
        "id": "5ff52a43"
      },
      "outputs": [],
      "source": [
        "batch_size = 1\n",
        "num_epochs = 5\n",
        "mha_heads = 4"
      ]
    },
    {
      "cell_type": "markdown",
      "id": "bbcaf8eb",
      "metadata": {
        "id": "bbcaf8eb"
      },
      "source": [
        "### General Transform -"
      ]
    },
    {
      "cell_type": "code",
      "execution_count": 3,
      "id": "b96ccdce",
      "metadata": {
        "id": "b96ccdce"
      },
      "outputs": [],
      "source": [
        "transform = transforms.Compose(\n",
        "    [transforms.ToTensor(),\n",
        "     transforms.Normalize((0.5, 0.5, 0.5), (0.5, 0.5, 0.5))])"
      ]
    },
    {
      "cell_type": "markdown",
      "id": "ee28a6c0",
      "metadata": {
        "id": "ee28a6c0"
      },
      "source": [
        "### Dataset and DataLoader -"
      ]
    },
    {
      "cell_type": "code",
      "execution_count": 4,
      "id": "c5366cfd",
      "metadata": {
        "colab": {
          "base_uri": "https://localhost:8080/"
        },
        "id": "c5366cfd",
        "outputId": "1fc05a69-b6ce-423b-cd5a-03f95ccb1e97"
      },
      "outputs": [
        {
          "output_type": "stream",
          "name": "stdout",
          "text": [
            "Downloading https://www.cs.toronto.edu/~kriz/cifar-100-python.tar.gz to ./data/cifar-100-python.tar.gz\n"
          ]
        },
        {
          "output_type": "stream",
          "name": "stderr",
          "text": [
            "100%|██████████| 169001437/169001437 [00:03<00:00, 48966120.55it/s]\n"
          ]
        },
        {
          "output_type": "stream",
          "name": "stdout",
          "text": [
            "Extracting ./data/cifar-100-python.tar.gz to ./data\n",
            "Files already downloaded and verified\n",
            "tensor([[[[ 0.5608,  0.5373,  0.5294,  ...,  0.6941,  0.7020,  0.7569],\n",
            "          [ 0.5451,  0.5294,  0.5294,  ...,  0.8118,  0.8275,  0.8902],\n",
            "          [ 0.7412,  0.6706,  0.6392,  ...,  0.9059,  0.9137,  0.9608],\n",
            "          ...,\n",
            "          [-0.4353, -0.4431, -0.4196,  ...,  0.7255,  0.4353,  0.2157],\n",
            "          [-0.4353, -0.4039, -0.3412,  ...,  0.7412,  0.4667,  0.1373],\n",
            "          [-0.3725, -0.3412, -0.3333,  ...,  0.7020,  0.6235,  0.3804]],\n",
            "\n",
            "         [[ 0.6863,  0.6549,  0.6471,  ...,  0.8118,  0.8118,  0.8353],\n",
            "          [ 0.6471,  0.6314,  0.6471,  ...,  0.9059,  0.9059,  0.9216],\n",
            "          [ 0.7725,  0.7255,  0.7176,  ...,  0.9608,  0.9529,  0.9608],\n",
            "          ...,\n",
            "          [-0.4275, -0.4196, -0.3882,  ...,  0.6314,  0.3176,  0.1059],\n",
            "          [-0.4118, -0.3647, -0.3020,  ...,  0.6627,  0.3647,  0.0353],\n",
            "          [-0.3333, -0.2941, -0.2784,  ...,  0.6235,  0.5216,  0.2863]],\n",
            "\n",
            "         [[ 0.9529,  0.9137,  0.9059,  ...,  0.9608,  0.9608,  0.9765],\n",
            "          [ 0.8745,  0.8667,  0.8824,  ...,  0.9608,  0.9608,  0.9843],\n",
            "          [ 0.9294,  0.8980,  0.9059,  ...,  0.9686,  0.9686,  0.9843],\n",
            "          ...,\n",
            "          [-0.2235, -0.2000, -0.1529,  ...,  0.7020,  0.4196,  0.1765],\n",
            "          [-0.1843, -0.1294, -0.0431,  ...,  0.7255,  0.5059,  0.1686],\n",
            "          [-0.0745, -0.0353, -0.0039,  ...,  0.6863,  0.6549,  0.4353]]]]) tensor([49])\n",
            "torch.Size([1, 3, 32, 32]) torch.Size([1])\n"
          ]
        }
      ],
      "source": [
        "train_dataset = torchvision.datasets.CIFAR100(root='./data', train=True,\n",
        "                                               download=True, transform=transform)\n",
        "\n",
        "test_dataset = torchvision.datasets.CIFAR100(root='./data', train=False,\n",
        "                                            download=True, transform=transform)\n",
        "\n",
        "train_loader = torch.utils.data.DataLoader(train_dataset, batch_size=batch_size,\n",
        "                                           shuffle=True)\n",
        "\n",
        "test_loader = torch.utils.data.DataLoader(test_dataset, batch_size=batch_size,\n",
        "                                          shuffle=False)\n",
        "\n",
        "output_iter = iter(test_loader)\n",
        "features, labels = next(output_iter)\n",
        "print(features, labels)\n",
        "print(features.size(), labels.size())"
      ]
    },
    {
      "cell_type": "markdown",
      "id": "f5f0eba3",
      "metadata": {
        "id": "f5f0eba3"
      },
      "source": [
        "### Example image -"
      ]
    },
    {
      "cell_type": "code",
      "execution_count": 5,
      "id": "ac678e9a",
      "metadata": {
        "colab": {
          "base_uri": "https://localhost:8080/",
          "height": 430
        },
        "id": "ac678e9a",
        "outputId": "359b238e-131f-4dae-8fdd-bc3be59be892"
      },
      "outputs": [
        {
          "output_type": "display_data",
          "data": {
            "text/plain": [
              "<Figure size 640x480 with 1 Axes>"
            ],
            "image/png": "[encoded data removed]"
          },
          "metadata": {}
        }
      ],
      "source": [
        "def imshow(img):\n",
        "    img = img / 2 + 0.5  # unnormalize\n",
        "    npimg = img.numpy()\n",
        "    plt.imshow(np.transpose(npimg, (1, 2, 0)))\n",
        "    plt.show()\n",
        "\n",
        "\n",
        "# get some random training images\n",
        "dataiter = iter(train_loader)\n",
        "images, labels = next(dataiter)\n",
        "\n",
        "# show images\n",
        "imshow(torchvision.utils.make_grid(images))"
      ]
    },
    {
      "cell_type": "markdown",
      "id": "ba7acf07",
      "metadata": {
        "id": "ba7acf07"
      },
      "source": [
        "### Encoder -"
      ]
    },
    {
      "cell_type": "code",
      "execution_count": 6,
      "id": "c56de596",
      "metadata": {
        "id": "c56de596"
      },
      "outputs": [],
      "source": [
        "class PatchEmbed(nn.Module):\n",
        "    def __init__(self, img_size=32, patch_size=8, in_channels=3, embed_dim=512):\n",
        "        super().__init__()\n",
        "        self.img_size = img_size\n",
        "        self.patch_size = patch_size\n",
        "        self.n_patches = (img_size//patch_size)**2\n",
        "        #print(self.n_patches)\n",
        "        \n",
        "        self.proj = nn.Conv2d(in_channels, \n",
        "                              embed_dim, \n",
        "                              kernel_size=patch_size, \n",
        "                              stride=patch_size)\n",
        "        self.cls_token = nn.Parameter(torch.randn(1, 1, embed_dim))\n",
        "        \n",
        "        self.pos_embedding = nn.Parameter(torch.randn(self.n_patches+1, embed_dim))\n",
        "        \n",
        "    def forward(self, x):\n",
        "        \n",
        "        x = self.proj(x) #(batch_size, embed_dim, n_patches**0.5, n_patches**0.5)\n",
        "        x = x.flatten(2) #(batch_size, embed_dim, n_patches)\n",
        "        x = x.transpose(1, 2) #(batch_size, n_patches, embed_dim)\n",
        "        x = torch.cat([self.cls_token, x], dim=1)\n",
        "        x += self.pos_embedding\n",
        "        \n",
        "        return x\n",
        "\n",
        "\n",
        "class MLPBlock(nn.Sequential):\n",
        "    def __init__(self, emb_size, expansion=4, drop_p= 0.1):\n",
        "        super().__init__(\n",
        "            nn.Linear(emb_size, expansion * emb_size),\n",
        "            nn.ReLU(),\n",
        "            nn.Dropout(drop_p),\n",
        "            nn.Linear(expansion * emb_size, emb_size),\n",
        "        )\n",
        "\n",
        "        \n",
        "class EncoderBlock(nn.Module):\n",
        "    def __init__(self, emb_size=512, MLP_drop_p=0.1, drop_p=0.1, num_heads=4, forward_expansion=4):\n",
        "        super().__init__()\n",
        "        \n",
        "        self.layer1 = nn.LayerNorm(emb_size)\n",
        "        self.mha = nn.MultiheadAttention(embed_dim=emb_size, num_heads=num_heads, dropout=drop_p, batch_first=True)\n",
        "        self.layer2 = nn.LayerNorm(emb_size)\n",
        "        self.mlp = MLPBlock(emb_size, expansion=forward_expansion, drop_p=MLP_drop_p)\n",
        "        self.dropout = nn.Dropout(drop_p)\n",
        "    \n",
        "    def forward(self, x):\n",
        "        \n",
        "        res = x\n",
        "        x, _ = self.mha(self.layer1(x), self.layer1(x), self.layer1(x))\n",
        "        x += res\n",
        "        res = x\n",
        "        x = self.layer2(x)\n",
        "        x = self.mlp(x)\n",
        "        x = self.dropout(x)\n",
        "        x += res\n",
        "        \n",
        "        return x"
      ]
    },
    {
      "cell_type": "markdown",
      "id": "deb9bef5",
      "metadata": {
        "id": "deb9bef5"
      },
      "source": [
        "### Overall Model -"
      ]
    },
    {
      "cell_type": "code",
      "execution_count": 7,
      "id": "859e4ec6",
      "metadata": {
        "id": "859e4ec6"
      },
      "outputs": [],
      "source": [
        "class VisionTransformer(nn.Module):\n",
        "    def __init__(self, depth, n_classes=100):\n",
        "        super().__init__()\n",
        "        \n",
        "        self.depth = depth\n",
        "        self.embedder = PatchEmbed()\n",
        "        self.encoders = nn.ModuleList([])\n",
        "        for _ in range(depth):\n",
        "            self.encoders.append(EncoderBlock())\n",
        "        self.out = nn.Sequential(nn.LayerNorm(512), nn.Linear(512, n_classes))\n",
        "    \n",
        "    def forward(self, x):\n",
        "        \n",
        "        x = self.embedder(x)\n",
        "        for module in self.encoders:\n",
        "            x = module(x)\n",
        "        x = torch.sum(x, axis=1)\n",
        "        x = self.out(x)\n",
        "        \n",
        "        return x"
      ]
    },
    {
      "cell_type": "code",
      "execution_count": 9,
      "id": "fc83e0a7",
      "metadata": {
        "colab": {
          "base_uri": "https://localhost:8080/"
        },
        "id": "fc83e0a7",
        "outputId": "dbf4afe2-756e-46c6-808c-3a9b8d5cef59"
      },
      "outputs": [
        {
          "output_type": "stream",
          "name": "stdout",
          "text": [
            "VisionTransformer(\n",
            "  (embedder): PatchEmbed(\n",
            "    (proj): Conv2d(3, 512, kernel_size=(8, 8), stride=(8, 8))\n",
            "  )\n",
            "  (encoders): ModuleList(\n",
            "    (0-1): 2 x EncoderBlock(\n",
            "      (layer1): LayerNorm((512,), eps=1e-05, elementwise_affine=True)\n",
            "      (mha): MultiheadAttention(\n",
            "        (out_proj): NonDynamicallyQuantizableLinear(in_features=512, out_features=512, bias=True)\n",
            "      )\n",
            "      (layer2): LayerNorm((512,), eps=1e-05, elementwise_affine=True)\n",
            "      (mlp): MLPBlock(\n",
            "        (0): Linear(in_features=512, out_features=2048, bias=True)\n",
            "        (1): ReLU()\n",
            "        (2): Dropout(p=0.1, inplace=False)\n",
            "        (3): Linear(in_features=2048, out_features=512, bias=True)\n",
            "      )\n",
            "      (dropout): Dropout(p=0.1, inplace=False)\n",
            "    )\n",
            "  )\n",
            "  (out): Sequential(\n",
            "    (0): LayerNorm((512,), eps=1e-05, elementwise_affine=True)\n",
            "    (1): Linear(in_features=512, out_features=100, bias=True)\n",
            "  )\n",
            ")\n"
          ]
        }
      ],
      "source": [
        "print(VisionTransformer(2))"
      ]
    },
    {
      "cell_type": "markdown",
      "id": "610511e0",
      "metadata": {
        "id": "610511e0"
      },
      "source": [
        "### Loss -"
      ]
    },
    {
      "cell_type": "code",
      "execution_count": 10,
      "id": "b66885da",
      "metadata": {
        "id": "b66885da"
      },
      "outputs": [],
      "source": [
        "def gumbel_sample(shape, eps = 1e-8):\n",
        "    \n",
        "    U = torch.rand(shape)\n",
        "    #U = U.to(device)\n",
        "    return -torch.log(-torch.log(U + eps) + eps)\n",
        "\n",
        "class loss_gumbel(nn.Module):\n",
        "    \n",
        "    def __init__(self):\n",
        "        super(loss_gumbel, self).__init__()\n",
        "    \n",
        "    def forward(self, output, target, temp):\n",
        "        \n",
        "        criterion = nn.CrossEntropyLoss()\n",
        "        y_hat = output + gumbel_sample(output.size())\n",
        "        loss = criterion(y_hat/temp, target)\n",
        "        \n",
        "        return loss"
      ]
    },
    {
      "cell_type": "markdown",
      "id": "b142c3cc",
      "metadata": {
        "id": "b142c3cc"
      },
      "source": [
        "### Training -"
      ]
    },
    {
      "cell_type": "code",
      "execution_count": 11,
      "id": "32176ac7",
      "metadata": {
        "id": "32176ac7"
      },
      "outputs": [],
      "source": [
        "ViT = VisionTransformer(1)\n",
        "criterion = loss_gumbel()\n",
        "optimizer = optim.SGD(ViT.parameters(), lr=1e-3)"
      ]
    },
    {
      "cell_type": "code",
      "execution_count": 13,
      "id": "ba294dd3",
      "metadata": {
        "colab": {
          "base_uri": "https://localhost:8080/"
        },
        "id": "ba294dd3",
        "outputId": "dc120421-b0fd-4518-9be0-36dd49c5ae53"
      },
      "outputs": [
        {
          "output_type": "stream",
          "name": "stdout",
          "text": [
            "Epoch [1/5], Step [5000/50000], Loss: 3.2109\n",
            "Epoch [1/5], Step [10000/50000], Loss: 4.8284\n",
            "Epoch [1/5], Step [15000/50000], Loss: 4.4468\n",
            "Epoch [1/5], Step [20000/50000], Loss: 5.8988\n",
            "Epoch [1/5], Step [25000/50000], Loss: 2.7370\n",
            "Epoch [1/5], Step [30000/50000], Loss: 6.3933\n",
            "Epoch [1/5], Step [35000/50000], Loss: 6.5404\n",
            "Epoch [1/5], Step [40000/50000], Loss: 6.2231\n",
            "Epoch [1/5], Step [45000/50000], Loss: 2.1524\n",
            "Epoch [1/5], Step [50000/50000], Loss: 5.4130\n",
            "Epoch [2/5], Step [5000/50000], Loss: 5.1012\n",
            "Epoch [2/5], Step [10000/50000], Loss: 7.6824\n",
            "Epoch [2/5], Step [15000/50000], Loss: 4.5441\n",
            "Epoch [2/5], Step [20000/50000], Loss: 7.8161\n",
            "Epoch [2/5], Step [25000/50000], Loss: 1.4554\n",
            "Epoch [2/5], Step [30000/50000], Loss: 1.4788\n",
            "Epoch [2/5], Step [35000/50000], Loss: 4.5234\n",
            "Epoch [2/5], Step [40000/50000], Loss: 2.6506\n",
            "Epoch [2/5], Step [45000/50000], Loss: 3.1817\n",
            "Epoch [2/5], Step [50000/50000], Loss: 7.3675\n",
            "Epoch [3/5], Step [5000/50000], Loss: 2.1263\n",
            "Epoch [3/5], Step [10000/50000], Loss: 4.0915\n",
            "Epoch [3/5], Step [15000/50000], Loss: 8.3596\n",
            "Epoch [3/5], Step [20000/50000], Loss: 3.8668\n",
            "Epoch [3/5], Step [25000/50000], Loss: 2.3873\n",
            "Epoch [3/5], Step [30000/50000], Loss: 4.3313\n",
            "Epoch [3/5], Step [35000/50000], Loss: 9.1578\n",
            "Epoch [3/5], Step [40000/50000], Loss: 4.1082\n",
            "Epoch [3/5], Step [45000/50000], Loss: 7.9241\n",
            "Epoch [3/5], Step [50000/50000], Loss: 2.0865\n",
            "Epoch [4/5], Step [5000/50000], Loss: 1.9903\n",
            "Epoch [4/5], Step [10000/50000], Loss: 5.5595\n",
            "Epoch [4/5], Step [15000/50000], Loss: 3.9139\n",
            "Epoch [4/5], Step [20000/50000], Loss: 2.1390\n",
            "Epoch [4/5], Step [25000/50000], Loss: 2.4235\n",
            "Epoch [4/5], Step [30000/50000], Loss: 3.9196\n",
            "Epoch [4/5], Step [35000/50000], Loss: 7.6443\n",
            "Epoch [4/5], Step [40000/50000], Loss: 4.9497\n",
            "Epoch [4/5], Step [45000/50000], Loss: 3.1834\n",
            "Epoch [4/5], Step [50000/50000], Loss: 7.9903\n",
            "Epoch [5/5], Step [5000/50000], Loss: 9.5319\n",
            "Epoch [5/5], Step [10000/50000], Loss: 8.7724\n",
            "Epoch [5/5], Step [15000/50000], Loss: 4.1215\n",
            "Epoch [5/5], Step [20000/50000], Loss: 6.4622\n",
            "Epoch [5/5], Step [25000/50000], Loss: 9.4888\n",
            "Epoch [5/5], Step [30000/50000], Loss: 3.7685\n",
            "Epoch [5/5], Step [35000/50000], Loss: 4.7462\n",
            "Epoch [5/5], Step [40000/50000], Loss: 5.0225\n",
            "Epoch [5/5], Step [45000/50000], Loss: 4.5961\n",
            "Epoch [5/5], Step [50000/50000], Loss: 3.4054\n",
            "Finished Training\n"
          ]
        }
      ],
      "source": [
        "loss_hist = []\n",
        "iter_no = []\n",
        "n_total_steps = len(train_loader)\n",
        "times = []\n",
        "current = time.time()\n",
        "for epoch in range(num_epochs):\n",
        "    for i, (images, labels) in enumerate(train_loader):\n",
        "        # origin shape: [1, 3, 32, 32] = 1, 3, 1024\n",
        "\n",
        "        # Forward pass\n",
        "        outputs = ViT(images)\n",
        "        loss = criterion(outputs, labels, 0.9)\n",
        "\n",
        "        # Backward and optimize\n",
        "        optimizer.zero_grad()\n",
        "        loss.backward()\n",
        "        optimizer.step()\n",
        "        \n",
        "        if (i + 1) % (n_total_steps/5) == 0:\n",
        "            loss_hist.append(loss.item())\n",
        "            iter_no.append(i + epoch*n_total_steps)\n",
        "        \n",
        "        #if i < 10:\n",
        "        #    print(f'Epoch [{epoch+1}/{num_epochs}], Step [{i+1}/{n_total_steps}], Loss: {loss.item():.4f}')\n",
        "\n",
        "        if (i + 1) % (n_total_steps/10) == 0:\n",
        "            print(f'Epoch [{epoch+1}/{num_epochs}], Step [{i+1}/{n_total_steps}], Loss: {loss.item():.4f}')\n",
        "    \n",
        "    times.append(time.time() - current)\n",
        "    current = time.time()\n",
        "        \n",
        "avg_time = sum(times)/len(times)\n",
        "\n",
        "print('Finished Training')"
      ]
    },
    {
      "cell_type": "markdown",
      "id": "3b7ee845",
      "metadata": {
        "id": "3b7ee845"
      },
      "source": [
        "### Model Evaluation -"
      ]
    },
    {
      "cell_type": "code",
      "execution_count": 14,
      "id": "93441096",
      "metadata": {
        "colab": {
          "base_uri": "https://localhost:8080/",
          "height": 470
        },
        "id": "93441096",
        "outputId": "019c5b8e-b03e-4ac6-990a-8162ee916f71"
      },
      "outputs": [
        {
          "output_type": "execute_result",
          "data": {
            "text/plain": [
              "Text(0.5, 1.0, 'iterations vs loss')"
            ]
          },
          "metadata": {},
          "execution_count": 14
        },
        {
          "output_type": "display_data",
          "data": {
            "text/plain": [
              "<Figure size 640x480 with 1 Axes>"
            ],
            "image/png": "[encoded data removed]"
          },
          "metadata": {}
        }
      ],
      "source": [
        "plt.plot(iter_no, loss_hist)\n",
        "plt.title(\"iterations vs loss\")"
      ]
    },
    {
      "cell_type": "code",
      "execution_count": 19,
      "id": "531c00b3",
      "metadata": {
        "colab": {
          "base_uri": "https://localhost:8080/"
        },
        "id": "531c00b3",
        "outputId": "62b4aad1-2ee3-42fa-e957-055d703672db"
      },
      "outputs": [
        {
          "output_type": "stream",
          "name": "stdout",
          "text": [
            "With gumbel softmax, each epoch lasted 632.0854979991913s\n"
          ]
        }
      ],
      "source": [
        "avg_time = sum(times)/len(times)\n",
        "print(f\"With gumbel softmax, each epoch lasted {avg_time}s\")"
      ]
    },
    {
      "cell_type": "code",
      "execution_count": 20,
      "id": "f31f9f6f",
      "metadata": {
        "colab": {
          "base_uri": "https://localhost:8080/",
          "height": 613
        },
        "id": "f31f9f6f",
        "outputId": "3a3a926e-da76-4cd5-8c89-f475fc90650d"
      },
      "outputs": [
        {
          "output_type": "stream",
          "name": "stdout",
          "text": [
            "Accuracy of the network: 21.46 %\n"
          ]
        },
        {
          "output_type": "display_data",
          "data": {
            "text/plain": [
              "<Figure size 640x480 with 1 Axes>"
            ],
            "image/png": "[encoded data removed]"
          },
          "metadata": {}
        },
        {
          "output_type": "stream",
          "name": "stdout",
          "text": [
            "[[42.  1.  0. ...  0.  0.  0.]\n",
            " [ 2. 19.  0. ...  0.  1.  0.]\n",
            " [ 1.  0. 16. ...  3.  1.  2.]\n",
            " ...\n",
            " [ 0.  0.  0. ... 22.  0.  0.]\n",
            " [ 1.  2.  4. ...  1.  7.  1.]\n",
            " [ 0.  0.  0. ...  1.  0. 22.]]\n",
            "max precision at class - 9 = 65.625%\n"
          ]
        }
      ],
      "source": [
        "with torch.no_grad():\n",
        "    confusion_matrix = np.zeros((100, 100))\n",
        "    n_correct = 0\n",
        "    n_samples = 0\n",
        "    for images, labels in test_loader:\n",
        "        outputs = ViT(images)\n",
        "        # max returns (value ,index)\n",
        "        _, predicted = torch.max(outputs, 1)\n",
        "        for i in range(batch_size):\n",
        "            confusion_matrix[labels[i]][predicted[i]] += 1\n",
        "        n_samples += labels.size(0)\n",
        "        n_correct += (predicted == labels).sum().item()\n",
        "\n",
        "    acc = 100.0 * n_correct / n_samples\n",
        "    print(f'Accuracy of the network: {acc} %')\n",
        "    \n",
        "    plt.imshow(confusion_matrix, cmap = 'gray')\n",
        "    plt.title('CONFUSION MATRIX - ')\n",
        "    plt.show()\n",
        "    \n",
        "    print(confusion_matrix)\n",
        "    \n",
        "    precision = np.zeros((100,))\n",
        "    recall = np.zeros((100,))\n",
        "    \n",
        "    for classes in range(100):\n",
        "        if(np.sum(confusion_matrix[:,classes]) > 0):\n",
        "            precision[classes] = confusion_matrix[classes][classes]/np.sum(confusion_matrix[:,classes])\n",
        "        else:\n",
        "            precision[classes] = 0\n",
        "        if(np.sum(confusion_matrix[classes,:]) > 0):    \n",
        "            recall[classes] = confusion_matrix[classes][classes]/np.sum(confusion_matrix[classes,:])\n",
        "        else:\n",
        "            recall[classes] = 0\n",
        "    \n",
        "    max_p = precision[np.argmax(precision)]\n",
        "    \n",
        "    print(f'max precision at class - {np.argmax(precision)} = {max_p*100}%')"
      ]
    },
    {
      "cell_type": "code",
      "execution_count": 22,
      "id": "a4d6aa17",
      "metadata": {
        "id": "a4d6aa17"
      },
      "outputs": [],
      "source": [
        "precision = 0\n",
        "recall = 0\n",
        "for classes in range(100):\n",
        "    if(np.sum(confusion_matrix[:,classes]) > 0):\n",
        "        precision += confusion_matrix[classes][classes]/np.sum(confusion_matrix[:,classes])\n",
        "    if(np.sum(confusion_matrix[classes,:]) > 0):    \n",
        "        recall += confusion_matrix[classes][classes]/np.sum(confusion_matrix[classes,:])\n",
        "        \n",
        "precision /= 100\n",
        "recall /= 100\n",
        "\n",
        "F1 = 2/((1/precision) + (1/recall))"
      ]
    },
    {
      "cell_type": "code",
      "execution_count": 23,
      "id": "29b569eb",
      "metadata": {
        "colab": {
          "base_uri": "https://localhost:8080/"
        },
        "id": "29b569eb",
        "outputId": "a76bdb64-4822-4109-bc2a-5373e79b373d"
      },
      "outputs": [
        {
          "output_type": "stream",
          "name": "stdout",
          "text": [
            "Precision - 0.2180, Recall - 0.2146 and F1-score is - 0.2163\n"
          ]
        }
      ],
      "source": [
        "print(f\"Precision - {precision:.4f}, Recall - {recall:.4f} and F1-score is - {F1:.4f}\")"
      ]
    },
    {
      "cell_type": "markdown",
      "source": [
        "# Thanks!"
      ],
      "metadata": {
        "id": "Ycogz2hilMev"
      },
      "id": "Ycogz2hilMev"
    }
  ],
  "metadata": {
    "kernelspec": {
      "display_name": "Python 3 (ipykernel)",
      "language": "python",
      "name": "python3"
    },
    "language_info": {
      "codemirror_mode": {
        "name": "ipython",
        "version": 3
      },
      "file_extension": ".py",
      "mimetype": "text/x-python",
      "name": "python",
      "nbconvert_exporter": "python",
      "pygments_lexer": "ipython3",
      "version": "3.10.11"
    },
    "colab": {
      "provenance": []
    },
    "accelerator": "GPU",
    "gpuClass": "standard"
  },
  "nbformat": 4,
  "nbformat_minor": 5
}