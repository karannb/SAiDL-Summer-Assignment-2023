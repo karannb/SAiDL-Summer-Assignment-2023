{
 "cells": [
  {
   "cell_type": "markdown",
   "metadata": {
    "id": "sSJg5QBpBVY1"
   },
   "source": [
    "# SAiDL Summer 2023 Induction Assignment"
   ]
  },
  {
   "cell_type": "markdown",
   "metadata": {
    "id": "i4MjSc58BVY5"
   },
   "source": [
    "## Task 1, Core ML"
   ]
  },
  {
   "cell_type": "markdown",
   "metadata": {
    "id": "NSw-UuTPBVY6"
   },
   "source": [
    "### Packages -"
   ]
  },
  {
   "cell_type": "code",
   "execution_count": 1,
   "metadata": {
    "id": "mNs5GYmDBVY7"
   },
   "outputs": [],
   "source": [
    "#!/usr/bin/env python3\n",
    "# -*- coding: utf-8 -*-\n",
    "\"\"\"\n",
    "Created on Sun Apr  2 23:55:33 2023\n",
    "\n",
    "@author: karan_bania\n",
    "\"\"\"\n",
    "\n",
    "import torch\n",
    "import torch.nn as nn\n",
    "import torch.nn.functional as F\n",
    "import torchvision\n",
    "import torchvision.transforms as transforms\n",
    "import matplotlib.pyplot as plt\n",
    "import numpy as np\n",
    "import copy\n",
    "import time\n",
    "%matplotlib inline\n",
    "\n",
    "torch.random.manual_seed(1)\n",
    "np.random.seed(1)"
   ]
  },
  {
   "cell_type": "markdown",
   "metadata": {
    "id": "LYGf79z-BVY9"
   },
   "source": [
    "### Device -"
   ]
  },
  {
   "cell_type": "code",
   "execution_count": 2,
   "metadata": {
    "id": "wg9_pS8SBVY-"
   },
   "outputs": [],
   "source": [
    "# Device configuration\n",
    "device = torch.device('cuda' if torch.cuda.is_available() else 'cpu')"
   ]
  },
  {
   "cell_type": "markdown",
   "metadata": {
    "id": "kU9pg_uVBVZA"
   },
   "source": [
    "### Hyper-params -"
   ]
  },
  {
   "cell_type": "code",
   "execution_count": 3,
   "metadata": {
    "id": "nG2eGckABVZA"
   },
   "outputs": [],
   "source": [
    "# Hyper-parameters \n",
    "num_epochs = 10\n",
    "batch_size = 1\n",
    "learning_rate = 0.001\n",
    "temp = 0.9"
   ]
  },
  {
   "cell_type": "markdown",
   "metadata": {
    "id": "bqp2SP17BVZD"
   },
   "source": [
    "### Pytorch Transform to normalize -"
   ]
  },
  {
   "cell_type": "code",
   "execution_count": 4,
   "metadata": {
    "id": "zjhil0GuBVZD"
   },
   "outputs": [],
   "source": [
    "# dataset has PILImage images of range [0, 1]. \n",
    "# We transform them to Tensors of normalized range [-1, 1]\n",
    "transform = transforms.Compose(\n",
    "    [transforms.ToTensor(),\n",
    "     transforms.Normalize((0.5, 0.5, 0.5), (0.5, 0.5, 0.5))])"
   ]
  },
  {
   "cell_type": "markdown",
   "metadata": {
    "id": "XiRadrcHBVZD"
   },
   "source": [
    "### Getting the data -"
   ]
  },
  {
   "cell_type": "code",
   "execution_count": 5,
   "metadata": {
    "colab": {
     "base_uri": "https://localhost:8080/"
    },
    "id": "ChJHw9T_BVZE",
    "outputId": "474616b9-d440-4d76-f560-fd6828ce9d96"
   },
   "outputs": [
    {
     "name": "stdout",
     "output_type": "stream",
     "text": [
      "Downloading https://www.cs.toronto.edu/~kriz/cifar-100-python.tar.gz to ./data/cifar-100-python.tar.gz\n"
     ]
    },
    {
     "name": "stderr",
     "output_type": "stream",
     "text": [
      "100%|██████████| 169001437/169001437 [00:02<00:00, 66958053.95it/s]\n"
     ]
    },
    {
     "name": "stdout",
     "output_type": "stream",
     "text": [
      "Extracting ./data/cifar-100-python.tar.gz to ./data\n",
      "Files already downloaded and verified\n",
      "tensor([[[[ 0.5608,  0.5373,  0.5294,  ...,  0.6941,  0.7020,  0.7569],\n",
      "          [ 0.5451,  0.5294,  0.5294,  ...,  0.8118,  0.8275,  0.8902],\n",
      "          [ 0.7412,  0.6706,  0.6392,  ...,  0.9059,  0.9137,  0.9608],\n",
      "          ...,\n",
      "          [-0.4353, -0.4431, -0.4196,  ...,  0.7255,  0.4353,  0.2157],\n",
      "          [-0.4353, -0.4039, -0.3412,  ...,  0.7412,  0.4667,  0.1373],\n",
      "          [-0.3725, -0.3412, -0.3333,  ...,  0.7020,  0.6235,  0.3804]],\n",
      "\n",
      "         [[ 0.6863,  0.6549,  0.6471,  ...,  0.8118,  0.8118,  0.8353],\n",
      "          [ 0.6471,  0.6314,  0.6471,  ...,  0.9059,  0.9059,  0.9216],\n",
      "          [ 0.7725,  0.7255,  0.7176,  ...,  0.9608,  0.9529,  0.9608],\n",
      "          ...,\n",
      "          [-0.4275, -0.4196, -0.3882,  ...,  0.6314,  0.3176,  0.1059],\n",
      "          [-0.4118, -0.3647, -0.3020,  ...,  0.6627,  0.3647,  0.0353],\n",
      "          [-0.3333, -0.2941, -0.2784,  ...,  0.6235,  0.5216,  0.2863]],\n",
      "\n",
      "         [[ 0.9529,  0.9137,  0.9059,  ...,  0.9608,  0.9608,  0.9765],\n",
      "          [ 0.8745,  0.8667,  0.8824,  ...,  0.9608,  0.9608,  0.9843],\n",
      "          [ 0.9294,  0.8980,  0.9059,  ...,  0.9686,  0.9686,  0.9843],\n",
      "          ...,\n",
      "          [-0.2235, -0.2000, -0.1529,  ...,  0.7020,  0.4196,  0.1765],\n",
      "          [-0.1843, -0.1294, -0.0431,  ...,  0.7255,  0.5059,  0.1686],\n",
      "          [-0.0745, -0.0353, -0.0039,  ...,  0.6863,  0.6549,  0.4353]]]]) tensor([49])\n",
      "torch.Size([1, 3, 32, 32]) torch.Size([1])\n"
     ]
    }
   ],
   "source": [
    "# CIFAR10: 60000 32x32 color images in 100 classes, with 600 images per class\n",
    "train_dataset = torchvision.datasets.CIFAR100(root='./data', train=True,\n",
    "                                               download=True, transform=transform)\n",
    "\n",
    "test_dataset = torchvision.datasets.CIFAR100(root='./data', train=False,\n",
    "                                            download=True, transform=transform)\n",
    "\n",
    "train_loader = torch.utils.data.DataLoader(train_dataset, batch_size=batch_size,\n",
    "                                           shuffle=True)\n",
    "\n",
    "test_loader = torch.utils.data.DataLoader(test_dataset, batch_size=batch_size,\n",
    "                                          shuffle=False)\n",
    "\n",
    "output_iter = iter(test_loader)\n",
    "features, labels = next(output_iter)\n",
    "print(features, labels)\n",
    "print(features.size(), labels.size())"
   ]
  },
  {
   "cell_type": "markdown",
   "metadata": {
    "id": "NoGvO8gSBVZG"
   },
   "source": [
    "### Example Image(s) -"
   ]
  },
  {
   "cell_type": "code",
   "execution_count": 6,
   "metadata": {
    "colab": {
     "base_uri": "https://localhost:8080/",
     "height": 430
    },
    "id": "6aN7F-R9BVZH",
    "outputId": "0978adab-328b-48fa-ac47-cd8bf8c31d46"
   },
   "outputs": [
    {
     "data": {
      "image/png": "[encoded data removed]",
      "text/plain": [
       "<Figure size 640x480 with 1 Axes>"
      ]
     },
     "metadata": {},
     "output_type": "display_data"
    }
   ],
   "source": [
    "def imshow(img):\n",
    "    img = img / 2 + 0.5  # unnormalize\n",
    "    npimg = img.numpy()\n",
    "    plt.imshow(np.transpose(npimg, (1, 2, 0)))\n",
    "    plt.show()\n",
    "\n",
    "\n",
    "# get some random training images\n",
    "dataiter = iter(train_loader)\n",
    "images, labels = next(dataiter)\n",
    "\n",
    "# show images\n",
    "imshow(torchvision.utils.make_grid(images))"
   ]
  },
  {
   "cell_type": "markdown",
   "metadata": {
    "id": "8ZJuZk9wBVZI"
   },
   "source": [
    "## CNN with usual softmax -"
   ]
  },
  {
   "cell_type": "code",
   "execution_count": 7,
   "metadata": {
    "id": "yJZd25rdBVZI"
   },
   "outputs": [],
   "source": [
    "class NormalConvNet(nn.Module):\n",
    "    def __init__(self):\n",
    "        super(NormalConvNet, self).__init__()\n",
    "        self.conv1 = nn.Conv2d(3, 6, 3, padding = 1)\n",
    "        self.conv2 = nn.Conv2d(6, 8, 3, padding = 1)\n",
    "        self.conv3 = nn.Conv2d(8, 10, 3, padding = 1)\n",
    "        self.pool = nn.MaxPool2d(2, 2)\n",
    "        self.fc1 = nn.Linear(4*4*10, 200)\n",
    "        self.fc2 = nn.Linear(200, 100)\n",
    "\n",
    "    def forward(self, x):\n",
    "        # -> n, 3, 32, 32\n",
    "        x = self.pool(F.relu(self.conv1(x)))  # -> n, 6, 16, 16\n",
    "        x = self.pool(F.relu(self.conv2(x)))  # -> n, 8, 8, 8\n",
    "        x = self.pool(F.relu(self.conv3(x)))  # -> n, 10, 4, 4\n",
    "        x = torch.flatten(x, start_dim = 1)   # -> n, 160\n",
    "        x = F.relu(self.fc1(x))               # -> n, 200\n",
    "        x = F.relu(self.fc2(x))               # -> n, 100\n",
    "        return x\n",
    "\n",
    "\n",
    "model = NormalConvNet().to(device)"
   ]
  },
  {
   "cell_type": "markdown",
   "metadata": {
    "id": "FMkIFZzDBVZI"
   },
   "source": [
    "### Loss + Optimizer -"
   ]
  },
  {
   "cell_type": "code",
   "execution_count": 8,
   "metadata": {
    "id": "S_Gt_nd0BVZJ"
   },
   "outputs": [],
   "source": [
    "criterion = nn.CrossEntropyLoss()\n",
    "optimizer = torch.optim.SGD(model.parameters(), lr=learning_rate)"
   ]
  },
  {
   "cell_type": "markdown",
   "metadata": {
    "id": "c3qwsi3wBVZJ"
   },
   "source": [
    "### Training pt.1 -"
   ]
  },
  {
   "cell_type": "code",
   "execution_count": 9,
   "metadata": {
    "colab": {
     "base_uri": "https://localhost:8080/"
    },
    "id": "iuJqVTXiBVZJ",
    "outputId": "e6fa411a-0cee-4f88-d699-dc8e3bbba0d4",
    "scrolled": true
   },
   "outputs": [
    {
     "name": "stdout",
     "output_type": "stream",
     "text": [
      "Epoch [1/10], Step [5000/50000], Loss: 4.6224\n",
      "Epoch [1/10], Step [10000/50000], Loss: 4.6217\n",
      "Epoch [1/10], Step [15000/50000], Loss: 4.6026\n",
      "Epoch [1/10], Step [20000/50000], Loss: 4.6214\n",
      "Epoch [1/10], Step [25000/50000], Loss: 4.6248\n",
      "Epoch [1/10], Step [30000/50000], Loss: 4.5470\n",
      "Epoch [1/10], Step [35000/50000], Loss: 4.6216\n",
      "Epoch [1/10], Step [40000/50000], Loss: 4.3718\n",
      "Epoch [1/10], Step [45000/50000], Loss: 4.6281\n",
      "Epoch [1/10], Step [50000/50000], Loss: 4.6411\n",
      "Epoch [2/10], Step [5000/50000], Loss: 4.5409\n",
      "Epoch [2/10], Step [10000/50000], Loss: 5.1629\n",
      "Epoch [2/10], Step [15000/50000], Loss: 4.9461\n",
      "Epoch [2/10], Step [20000/50000], Loss: 4.1057\n",
      "Epoch [2/10], Step [25000/50000], Loss: 4.9588\n",
      "Epoch [2/10], Step [30000/50000], Loss: 4.4596\n",
      "Epoch [2/10], Step [35000/50000], Loss: 3.4971\n",
      "Epoch [2/10], Step [40000/50000], Loss: 3.9367\n",
      "Epoch [2/10], Step [45000/50000], Loss: 1.4580\n",
      "Epoch [2/10], Step [50000/50000], Loss: 4.1784\n",
      "Epoch [3/10], Step [5000/50000], Loss: 4.4158\n",
      "Epoch [3/10], Step [10000/50000], Loss: 4.7909\n",
      "Epoch [3/10], Step [15000/50000], Loss: 2.7111\n",
      "Epoch [3/10], Step [20000/50000], Loss: 4.0288\n",
      "Epoch [3/10], Step [25000/50000], Loss: 3.7657\n",
      "Epoch [3/10], Step [30000/50000], Loss: 5.3588\n",
      "Epoch [3/10], Step [35000/50000], Loss: 2.7019\n",
      "Epoch [3/10], Step [40000/50000], Loss: 5.0445\n",
      "Epoch [3/10], Step [45000/50000], Loss: 4.8170\n",
      "Epoch [3/10], Step [50000/50000], Loss: 2.5606\n",
      "Epoch [4/10], Step [5000/50000], Loss: 3.4354\n",
      "Epoch [4/10], Step [10000/50000], Loss: 2.1957\n",
      "Epoch [4/10], Step [15000/50000], Loss: 4.3393\n",
      "Epoch [4/10], Step [20000/50000], Loss: 2.7523\n",
      "Epoch [4/10], Step [25000/50000], Loss: 3.1613\n",
      "Epoch [4/10], Step [30000/50000], Loss: 3.6927\n",
      "Epoch [4/10], Step [35000/50000], Loss: 4.0188\n",
      "Epoch [4/10], Step [40000/50000], Loss: 2.8562\n",
      "Epoch [4/10], Step [45000/50000], Loss: 4.5141\n",
      "Epoch [4/10], Step [50000/50000], Loss: 5.7689\n",
      "Epoch [5/10], Step [5000/50000], Loss: 3.5944\n",
      "Epoch [5/10], Step [10000/50000], Loss: 3.6000\n",
      "Epoch [5/10], Step [15000/50000], Loss: 5.0724\n",
      "Epoch [5/10], Step [20000/50000], Loss: 4.0286\n",
      "Epoch [5/10], Step [25000/50000], Loss: 2.1242\n",
      "Epoch [5/10], Step [30000/50000], Loss: 5.2567\n",
      "Epoch [5/10], Step [35000/50000], Loss: 1.2011\n",
      "Epoch [5/10], Step [40000/50000], Loss: 2.9427\n",
      "Epoch [5/10], Step [45000/50000], Loss: 3.9206\n",
      "Epoch [5/10], Step [50000/50000], Loss: 3.6119\n",
      "Epoch [6/10], Step [5000/50000], Loss: 2.0012\n",
      "Epoch [6/10], Step [10000/50000], Loss: 3.8040\n",
      "Epoch [6/10], Step [15000/50000], Loss: 0.5824\n",
      "Epoch [6/10], Step [20000/50000], Loss: 5.7602\n",
      "Epoch [6/10], Step [25000/50000], Loss: 2.3456\n",
      "Epoch [6/10], Step [30000/50000], Loss: 3.3482\n",
      "Epoch [6/10], Step [35000/50000], Loss: 2.7095\n",
      "Epoch [6/10], Step [40000/50000], Loss: 2.5782\n",
      "Epoch [6/10], Step [45000/50000], Loss: 3.3399\n",
      "Epoch [6/10], Step [50000/50000], Loss: 5.1475\n",
      "Epoch [7/10], Step [5000/50000], Loss: 5.5958\n",
      "Epoch [7/10], Step [10000/50000], Loss: 1.3297\n",
      "Epoch [7/10], Step [15000/50000], Loss: 3.9089\n",
      "Epoch [7/10], Step [20000/50000], Loss: 1.2151\n",
      "Epoch [7/10], Step [25000/50000], Loss: 3.3239\n",
      "Epoch [7/10], Step [30000/50000], Loss: 3.6889\n",
      "Epoch [7/10], Step [35000/50000], Loss: 2.6096\n",
      "Epoch [7/10], Step [40000/50000], Loss: 3.3703\n",
      "Epoch [7/10], Step [45000/50000], Loss: 0.0656\n",
      "Epoch [7/10], Step [50000/50000], Loss: 4.1299\n",
      "Epoch [8/10], Step [5000/50000], Loss: 5.8350\n",
      "Epoch [8/10], Step [10000/50000], Loss: 1.2884\n",
      "Epoch [8/10], Step [15000/50000], Loss: 6.8441\n",
      "Epoch [8/10], Step [20000/50000], Loss: 3.6398\n",
      "Epoch [8/10], Step [25000/50000], Loss: 2.4692\n",
      "Epoch [8/10], Step [30000/50000], Loss: 0.8214\n",
      "Epoch [8/10], Step [35000/50000], Loss: 2.0214\n",
      "Epoch [8/10], Step [40000/50000], Loss: 3.5414\n",
      "Epoch [8/10], Step [45000/50000], Loss: 3.1307\n",
      "Epoch [8/10], Step [50000/50000], Loss: 4.3265\n",
      "Epoch [9/10], Step [5000/50000], Loss: 0.9545\n",
      "Epoch [9/10], Step [10000/50000], Loss: 4.5394\n",
      "Epoch [9/10], Step [15000/50000], Loss: 0.9876\n",
      "Epoch [9/10], Step [20000/50000], Loss: 0.7787\n",
      "Epoch [9/10], Step [25000/50000], Loss: 3.9318\n",
      "Epoch [9/10], Step [30000/50000], Loss: 1.3421\n",
      "Epoch [9/10], Step [35000/50000], Loss: 4.8059\n",
      "Epoch [9/10], Step [40000/50000], Loss: 4.9706\n",
      "Epoch [9/10], Step [45000/50000], Loss: 1.8924\n",
      "Epoch [9/10], Step [50000/50000], Loss: 0.0768\n",
      "Epoch [10/10], Step [5000/50000], Loss: 3.9183\n",
      "Epoch [10/10], Step [10000/50000], Loss: 4.2056\n",
      "Epoch [10/10], Step [15000/50000], Loss: 3.0073\n",
      "Epoch [10/10], Step [20000/50000], Loss: 0.1748\n",
      "Epoch [10/10], Step [25000/50000], Loss: 4.0742\n",
      "Epoch [10/10], Step [30000/50000], Loss: 1.8377\n",
      "Epoch [10/10], Step [35000/50000], Loss: 4.9618\n",
      "Epoch [10/10], Step [40000/50000], Loss: 4.3359\n",
      "Epoch [10/10], Step [45000/50000], Loss: 0.4182\n",
      "Epoch [10/10], Step [50000/50000], Loss: 4.2778\n",
      "Finished Training\n"
     ]
    }
   ],
   "source": [
    "loss_hist_N = []\n",
    "iter_no_N = []\n",
    "n_total_steps = len(train_loader)\n",
    "times = []\n",
    "current = time.time()\n",
    "for epoch in range(num_epochs):\n",
    "    for i, (images, labels) in enumerate(train_loader):\n",
    "        # origin shape: [4, 3, 32, 32] = 4, 3, 1024\n",
    "        images = images.to(device)\n",
    "        labels = labels.to(device)\n",
    "\n",
    "        # Forward pass\n",
    "        outputs = model(images)\n",
    "        loss = criterion(outputs, labels)\n",
    "\n",
    "        # Backward and optimize\n",
    "        optimizer.zero_grad()\n",
    "        loss.backward()\n",
    "        optimizer.step()\n",
    "        \n",
    "        if (i + 1) % (n_total_steps/5) == 0:\n",
    "            loss_hist_N.append(loss.item())\n",
    "            iter_no_N.append(i + epoch*n_total_steps)\n",
    "\n",
    "        if (i+1) % (n_total_steps/10) == 0:\n",
    "            print (f'Epoch [{epoch+1}/{num_epochs}], Step [{i+1}/{n_total_steps}], Loss: {loss.item():.4f}')\n",
    "            \n",
    "    times.append(time.time() - current)\n",
    "    current = time.time()\n",
    "        \n",
    "avg_time_N = sum(times)/len(times)\n",
    "\n",
    "print('Finished Training')"
   ]
  },
  {
   "cell_type": "markdown",
   "metadata": {
    "id": "igdtAx7eBVZK"
   },
   "source": [
    "### Model Evaluation -"
   ]
  },
  {
   "cell_type": "code",
   "execution_count": 10,
   "metadata": {
    "colab": {
     "base_uri": "https://localhost:8080/",
     "height": 613
    },
    "id": "2Yqn5-WsBVZK",
    "outputId": "39e7d9b9-6c97-431e-c43f-3716f9f32d97"
   },
   "outputs": [
    {
     "name": "stdout",
     "output_type": "stream",
     "text": [
      "Accuracy of the network: 28.27 %\n"
     ]
    },
    {
     "data": {
      "image/png": "[encoded data removed]",
      "text/plain": [
       "<Figure size 640x480 with 1 Axes>"
      ]
     },
     "metadata": {},
     "output_type": "display_data"
    },
    {
     "name": "stdout",
     "output_type": "stream",
     "text": [
      "[[69.  3.  1. ...  0.  0.  0.]\n",
      " [ 6. 48.  0. ...  0.  0.  0.]\n",
      " [ 7.  0. 10. ...  1.  5.  0.]\n",
      " ...\n",
      " [ 0.  1.  0. ... 24.  2.  0.]\n",
      " [ 5.  1.  1. ...  1. 10.  3.]\n",
      " [ 0.  0.  1. ...  1.  1. 14.]]\n",
      "max precision at class - 82 = 64.28571428571429%\n"
     ]
    }
   ],
   "source": [
    "with torch.no_grad():\n",
    "    confusion_matrix_normal = np.zeros((100, 100))\n",
    "    n_correct = 0\n",
    "    n_samples = 0\n",
    "    for images, labels in test_loader:\n",
    "        images = images.to(device)\n",
    "        labels = labels.to(device)\n",
    "        outputs = model(images)\n",
    "        # max returns (value ,index)\n",
    "        _, predicted = torch.max(outputs, 1)\n",
    "        for i in range(batch_size):\n",
    "            confusion_matrix_normal[labels[i]][predicted[i]] += 1\n",
    "        n_samples += labels.size(0)\n",
    "        n_correct += (predicted == labels).sum().item()\n",
    "\n",
    "    acc = 100.0 * n_correct / n_samples\n",
    "    print(f'Accuracy of the network: {acc} %')\n",
    "    \n",
    "    plt.imshow(confusion_matrix_normal, cmap = 'gray')\n",
    "    plt.title('CONFUSION MATRIX - ')\n",
    "    plt.show()\n",
    "    \n",
    "    print(confusion_matrix_normal)\n",
    "    \n",
    "    precision = np.zeros((100,))\n",
    "    recall = np.zeros((100,))\n",
    "    \n",
    "    for classes in range(100):\n",
    "        if(np.sum(confusion_matrix_normal[:,classes]) > 0):\n",
    "            precision[classes] = confusion_matrix_normal[classes][classes]/np.sum(confusion_matrix_normal[:,classes])\n",
    "        else:\n",
    "            precision[classes] = 0\n",
    "        if(np.sum(confusion_matrix_normal[classes,:]) > 0):    \n",
    "            recall[classes] = confusion_matrix_normal[classes][classes]/np.sum(confusion_matrix_normal[classes,:])\n",
    "        else:\n",
    "            recall[classes] = 0\n",
    "    \n",
    "    max_p = precision[np.argmax(precision)]\n",
    "    \n",
    "    print(f'max precision at class - {np.argmax(precision)} = {max_p*100}%')"
   ]
  },
  {
   "cell_type": "markdown",
   "metadata": {
    "id": "M9loQFpFBVZL"
   },
   "source": [
    "## Gumbel SoftMax -"
   ]
  },
  {
   "cell_type": "code",
   "execution_count": 11,
   "metadata": {
    "id": "wCLVIUFaBVZL"
   },
   "outputs": [],
   "source": [
    "def gumbel_sample(shape, eps = 1e-8):\n",
    "    \n",
    "    U = torch.rand(shape)\n",
    "    U = U.to(device)\n",
    "    return -torch.log(-torch.log(U + eps) + eps)\n",
    "\n",
    "#def gumbel_softmax(logits, temp):\n",
    "#    \n",
    "#    y_hat = logits + gumbel_sample(logits.size())\n",
    "#    y_hat = F.softmax(y_hat/temp, dim = -1)\n",
    "#    return y_hat\n",
    "\n",
    "class loss_gumbel(nn.Module):\n",
    "    \n",
    "    def __init__(self):\n",
    "        super(loss_gumbel, self).__init__()\n",
    "    \n",
    "    def forward(self, output, target, temp):\n",
    "        \n",
    "        criterion = nn.CrossEntropyLoss()\n",
    "        y_hat = output + gumbel_sample(output.size())\n",
    "        loss = criterion(y_hat/temp, target)\n",
    "        \n",
    "        return loss"
   ]
  },
  {
   "cell_type": "markdown",
   "metadata": {
    "id": "PYCw6E93BVZL"
   },
   "source": [
    "### Same Architecture - "
   ]
  },
  {
   "cell_type": "code",
   "execution_count": 12,
   "metadata": {
    "id": "1QGuDAAEBVZM"
   },
   "outputs": [],
   "source": [
    "class GumbelConvNet(nn.Module):\n",
    "    def __init__(self, temp):\n",
    "        super(GumbelConvNet, self).__init__()\n",
    "        self.conv1 = nn.Conv2d(3, 6, 3, padding = 1)\n",
    "        self.conv2 = nn.Conv2d(6, 8, 3, padding = 1)\n",
    "        self.conv3 = nn.Conv2d(8, 10, 3, padding = 1)\n",
    "        self.pool = nn.MaxPool2d(2, 2)\n",
    "        self.fc1 = nn.Linear(4*4*10, 200)\n",
    "        self.fc2 = nn.Linear(200, 100)\n",
    "    \n",
    "    def forward(self, x):\n",
    "        # -> n, 3, 32, 32\n",
    "        x = self.pool(F.relu(self.conv1(x)))  # -> n, 6, 16, 16\n",
    "        x = self.pool(F.relu(self.conv2(x)))  # -> n, 8, 8, 8\n",
    "        x = self.pool(F.relu(self.conv3(x)))  # -> n, 10, 4, 4\n",
    "        x = torch.flatten(x, start_dim = 1)   # -> n, 160\n",
    "        x = F.relu(self.fc1(x))               # -> n, 200\n",
    "        xout = F.relu(self.fc2(x))            # -> n, 100\n",
    "        \n",
    "        return xout\n",
    "     \n",
    "G_model = GumbelConvNet(temp).to(device)"
   ]
  },
  {
   "cell_type": "markdown",
   "metadata": {
    "id": "gqOhwmvgBVZM"
   },
   "source": [
    "### Custom loss -"
   ]
  },
  {
   "cell_type": "code",
   "execution_count": 13,
   "metadata": {
    "id": "61iB3iXdBVZM"
   },
   "outputs": [],
   "source": [
    "G_criterion = loss_gumbel()\n",
    "G_optimizer = torch.optim.SGD(G_model.parameters(), lr=learning_rate)"
   ]
  },
  {
   "cell_type": "markdown",
   "metadata": {
    "id": "dsg1r7z-BVZM"
   },
   "source": [
    "### Training pt.2 -"
   ]
  },
  {
   "cell_type": "code",
   "execution_count": 14,
   "metadata": {
    "colab": {
     "base_uri": "https://localhost:8080/"
    },
    "id": "wl9WjYM1BVZQ",
    "outputId": "9a783182-e274-489b-b405-b34436594fed",
    "scrolled": true
   },
   "outputs": [
    {
     "name": "stdout",
     "output_type": "stream",
     "text": [
      "Epoch [1/10], Step [5000/50000], Loss: 6.4855\n",
      "Epoch [1/10], Step [10000/50000], Loss: 6.2289\n",
      "Epoch [1/10], Step [15000/50000], Loss: 3.3894\n",
      "Epoch [1/10], Step [20000/50000], Loss: 6.5428\n",
      "Epoch [1/10], Step [25000/50000], Loss: 7.1415\n",
      "Epoch [1/10], Step [30000/50000], Loss: 6.9129\n",
      "Epoch [1/10], Step [35000/50000], Loss: 5.7227\n",
      "Epoch [1/10], Step [40000/50000], Loss: 7.5939\n",
      "Epoch [1/10], Step [45000/50000], Loss: 6.8072\n",
      "Epoch [1/10], Step [50000/50000], Loss: 6.4720\n",
      "Epoch [2/10], Step [5000/50000], Loss: 4.0227\n",
      "Epoch [2/10], Step [10000/50000], Loss: 4.8792\n",
      "Epoch [2/10], Step [15000/50000], Loss: 4.9700\n",
      "Epoch [2/10], Step [20000/50000], Loss: 4.5817\n",
      "Epoch [2/10], Step [25000/50000], Loss: 2.9759\n",
      "Epoch [2/10], Step [30000/50000], Loss: 3.8977\n",
      "Epoch [2/10], Step [35000/50000], Loss: 5.0440\n",
      "Epoch [2/10], Step [40000/50000], Loss: 1.7351\n",
      "Epoch [2/10], Step [45000/50000], Loss: 4.6515\n",
      "Epoch [2/10], Step [50000/50000], Loss: 4.8243\n",
      "Epoch [3/10], Step [5000/50000], Loss: 2.9477\n",
      "Epoch [3/10], Step [10000/50000], Loss: 5.3167\n",
      "Epoch [3/10], Step [15000/50000], Loss: 8.5387\n",
      "Epoch [3/10], Step [20000/50000], Loss: 1.9948\n",
      "Epoch [3/10], Step [25000/50000], Loss: 8.1168\n",
      "Epoch [3/10], Step [30000/50000], Loss: 1.2326\n",
      "Epoch [3/10], Step [35000/50000], Loss: 5.8848\n",
      "Epoch [3/10], Step [40000/50000], Loss: 4.1845\n",
      "Epoch [3/10], Step [45000/50000], Loss: 5.1648\n",
      "Epoch [3/10], Step [50000/50000], Loss: 1.9267\n",
      "Epoch [4/10], Step [5000/50000], Loss: 5.0593\n",
      "Epoch [4/10], Step [10000/50000], Loss: 7.0595\n",
      "Epoch [4/10], Step [15000/50000], Loss: 3.6568\n",
      "Epoch [4/10], Step [20000/50000], Loss: 4.4446\n",
      "Epoch [4/10], Step [25000/50000], Loss: 9.1218\n",
      "Epoch [4/10], Step [30000/50000], Loss: 4.8038\n",
      "Epoch [4/10], Step [35000/50000], Loss: 3.7180\n",
      "Epoch [4/10], Step [40000/50000], Loss: 0.7770\n",
      "Epoch [4/10], Step [45000/50000], Loss: 2.8372\n",
      "Epoch [4/10], Step [50000/50000], Loss: 6.1368\n",
      "Epoch [5/10], Step [5000/50000], Loss: 12.3852\n",
      "Epoch [5/10], Step [10000/50000], Loss: 3.9975\n",
      "Epoch [5/10], Step [15000/50000], Loss: 1.0898\n",
      "Epoch [5/10], Step [20000/50000], Loss: 5.7816\n",
      "Epoch [5/10], Step [25000/50000], Loss: 1.3358\n",
      "Epoch [5/10], Step [30000/50000], Loss: 5.9942\n",
      "Epoch [5/10], Step [35000/50000], Loss: 0.8533\n",
      "Epoch [5/10], Step [40000/50000], Loss: 3.2778\n",
      "Epoch [5/10], Step [45000/50000], Loss: 2.5590\n",
      "Epoch [5/10], Step [50000/50000], Loss: 8.8974\n",
      "Epoch [6/10], Step [5000/50000], Loss: 1.4957\n",
      "Epoch [6/10], Step [10000/50000], Loss: 2.8976\n",
      "Epoch [6/10], Step [15000/50000], Loss: 6.1743\n",
      "Epoch [6/10], Step [20000/50000], Loss: 6.2229\n",
      "Epoch [6/10], Step [25000/50000], Loss: 6.9254\n",
      "Epoch [6/10], Step [30000/50000], Loss: 1.3956\n",
      "Epoch [6/10], Step [35000/50000], Loss: 6.3802\n",
      "Epoch [6/10], Step [40000/50000], Loss: 5.0481\n",
      "Epoch [6/10], Step [45000/50000], Loss: 8.6667\n",
      "Epoch [6/10], Step [50000/50000], Loss: 5.9661\n",
      "Epoch [7/10], Step [5000/50000], Loss: 1.0172\n",
      "Epoch [7/10], Step [10000/50000], Loss: 3.9412\n",
      "Epoch [7/10], Step [15000/50000], Loss: 8.2161\n",
      "Epoch [7/10], Step [20000/50000], Loss: 3.7257\n",
      "Epoch [7/10], Step [25000/50000], Loss: 4.0664\n",
      "Epoch [7/10], Step [30000/50000], Loss: 4.0031\n",
      "Epoch [7/10], Step [35000/50000], Loss: 6.4291\n",
      "Epoch [7/10], Step [40000/50000], Loss: 0.2268\n",
      "Epoch [7/10], Step [45000/50000], Loss: 9.1698\n",
      "Epoch [7/10], Step [50000/50000], Loss: 6.7068\n",
      "Epoch [8/10], Step [5000/50000], Loss: 5.6061\n",
      "Epoch [8/10], Step [10000/50000], Loss: 5.7453\n",
      "Epoch [8/10], Step [15000/50000], Loss: 8.7350\n",
      "Epoch [8/10], Step [20000/50000], Loss: 4.1517\n",
      "Epoch [8/10], Step [25000/50000], Loss: 4.2141\n",
      "Epoch [8/10], Step [30000/50000], Loss: 3.2108\n",
      "Epoch [8/10], Step [35000/50000], Loss: 5.0292\n",
      "Epoch [8/10], Step [40000/50000], Loss: 1.3785\n",
      "Epoch [8/10], Step [45000/50000], Loss: 1.0398\n",
      "Epoch [8/10], Step [50000/50000], Loss: 2.1743\n",
      "Epoch [9/10], Step [5000/50000], Loss: 1.7292\n",
      "Epoch [9/10], Step [10000/50000], Loss: 2.8760\n",
      "Epoch [9/10], Step [15000/50000], Loss: 0.6274\n",
      "Epoch [9/10], Step [20000/50000], Loss: 4.1355\n",
      "Epoch [9/10], Step [25000/50000], Loss: 8.6484\n",
      "Epoch [9/10], Step [30000/50000], Loss: 8.2075\n",
      "Epoch [9/10], Step [35000/50000], Loss: 7.2884\n",
      "Epoch [9/10], Step [40000/50000], Loss: 14.4983\n",
      "Epoch [9/10], Step [45000/50000], Loss: 5.1743\n",
      "Epoch [9/10], Step [50000/50000], Loss: 4.0873\n",
      "Epoch [10/10], Step [5000/50000], Loss: 6.4422\n",
      "Epoch [10/10], Step [10000/50000], Loss: 1.2415\n",
      "Epoch [10/10], Step [15000/50000], Loss: 6.3490\n",
      "Epoch [10/10], Step [20000/50000], Loss: 2.1319\n",
      "Epoch [10/10], Step [25000/50000], Loss: 0.0264\n",
      "Epoch [10/10], Step [30000/50000], Loss: 3.6539\n",
      "Epoch [10/10], Step [35000/50000], Loss: 1.8699\n",
      "Epoch [10/10], Step [40000/50000], Loss: 1.1048\n",
      "Epoch [10/10], Step [45000/50000], Loss: 3.7702\n",
      "Epoch [10/10], Step [50000/50000], Loss: 6.8820\n",
      "Finished Training\n"
     ]
    }
   ],
   "source": [
    "loss_hist_G = []\n",
    "iter_no_G = []\n",
    "n_total_steps = len(train_loader)\n",
    "times = []\n",
    "current = time.time()\n",
    "for epoch in range(num_epochs):\n",
    "    for i, (images, labels) in enumerate(train_loader):\n",
    "        # origin shape: [4, 3, 32, 32] = 4, 3, 1024\n",
    "        images = images.to(device)\n",
    "        labels = labels.to(device)\n",
    "\n",
    "        # Forward pass\n",
    "        outputs = G_model(images)\n",
    "        #print(outputs.shape)\n",
    "        #print(outputs.size(), labels.size())\n",
    "        loss = G_criterion(outputs, labels, temp)\n",
    "\n",
    "        # Backward and optimize\n",
    "        G_optimizer.zero_grad()\n",
    "        loss.backward()\n",
    "        G_optimizer.step()\n",
    "        \n",
    "        if (i + 1) % (n_total_steps/5) == 0:\n",
    "            loss_hist_G.append(loss.item())\n",
    "            iter_no_G.append(i + epoch*n_total_steps)\n",
    "\n",
    "        if (i + 1) % (n_total_steps/10) == 0:\n",
    "            print(f'Epoch [{epoch+1}/{num_epochs}], Step [{i+1}/{n_total_steps}], Loss: {loss.item():.4f}')\n",
    "    \n",
    "    times.append(time.time() - current)\n",
    "    current = time.time()\n",
    "        \n",
    "avg_time_G = sum(times)/len(times)\n",
    "\n",
    "print('Finished Training')"
   ]
  },
  {
   "cell_type": "markdown",
   "metadata": {
    "id": "0IDpu-IkBVZQ"
   },
   "source": [
    "### Model Evaluation -"
   ]
  },
  {
   "cell_type": "code",
   "execution_count": 15,
   "metadata": {
    "colab": {
     "base_uri": "https://localhost:8080/",
     "height": 613
    },
    "id": "1NcAWcNKBVZR",
    "outputId": "7c24075a-dcb3-4565-f3b5-bd2c7da885e1"
   },
   "outputs": [
    {
     "name": "stdout",
     "output_type": "stream",
     "text": [
      "Accuracy of the network: 27.4 %\n"
     ]
    },
    {
     "data": {
      "image/png": "[encoded data removed]",
      "text/plain": [
       "<Figure size 640x480 with 1 Axes>"
      ]
     },
     "metadata": {},
     "output_type": "display_data"
    },
    {
     "name": "stdout",
     "output_type": "stream",
     "text": [
      "[[57.  0.  3. ...  0.  0.  0.]\n",
      " [ 4. 20.  0. ...  1.  0.  0.]\n",
      " [ 3.  0.  4. ...  1.  0.  3.]\n",
      " ...\n",
      " [ 0.  0.  0. ... 31.  0.  0.]\n",
      " [ 1.  0.  1. ...  2.  1.  1.]\n",
      " [ 0.  0.  2. ...  1.  0. 13.]]\n",
      "max precision at class - 41 = 82.75862068965517%\n"
     ]
    }
   ],
   "source": [
    "with torch.no_grad():\n",
    "    confusion_matrix_gumbel = np.zeros((100, 100))\n",
    "    n_correct = 0\n",
    "    n_samples = 0\n",
    "    for images, labels in test_loader:\n",
    "        images = images.to(device)\n",
    "        labels = labels.to(device)\n",
    "        outputs = G_model(images)\n",
    "        # max returns (value ,index)\n",
    "        _, predicted = torch.max(outputs, 1)\n",
    "        for i in range(batch_size):\n",
    "            confusion_matrix_gumbel[labels[i]][predicted[i]] += 1\n",
    "        n_samples += labels.size(0)\n",
    "        n_correct += (predicted == labels).sum().item()\n",
    "\n",
    "    acc = 100.0 * n_correct / n_samples\n",
    "    print(f'Accuracy of the network: {acc} %')\n",
    "    \n",
    "    plt.imshow(confusion_matrix_gumbel, cmap = 'gray')\n",
    "    plt.title('CONFUSION MATRIX - ')\n",
    "    plt.show()\n",
    "    \n",
    "    print(confusion_matrix_gumbel)\n",
    "    \n",
    "    precision = np.zeros((100,))\n",
    "    recall = np.zeros((100,))\n",
    "    \n",
    "    for classes in range(100):\n",
    "        if(np.sum(confusion_matrix_gumbel[:,classes]) > 0):\n",
    "            precision[classes] = confusion_matrix_gumbel[classes][classes]/np.sum(confusion_matrix_gumbel[:,classes])\n",
    "        else:\n",
    "            precision[classes] = 0\n",
    "        if(np.sum(confusion_matrix_gumbel[classes,:]) > 0):    \n",
    "            recall[classes] = confusion_matrix_gumbel[classes][classes]/np.sum(confusion_matrix_gumbel[classes,:])\n",
    "        else:\n",
    "            recall[classes] = 0\n",
    "    \n",
    "    max_p = precision[np.argmax(precision)]\n",
    "    \n",
    "    print(f'max precision at class - {np.argmax(precision)} = {max_p*100}%')"
   ]
  },
  {
   "cell_type": "markdown",
   "metadata": {
    "id": "HTHZXBqzBVZR"
   },
   "source": [
    "## Hierarchical SoftMax -"
   ]
  },
  {
   "cell_type": "code",
   "execution_count": 16,
   "metadata": {
    "id": "W8mCluhpBVZR"
   },
   "outputs": [],
   "source": [
    "class Node:\n",
    "    count_nodes = 0\n",
    "    def __init__(self, label=None, parent=None, grad=True, tree=None):\n",
    "        Node.count_nodes += 1\n",
    "        self.label = label\n",
    "        self.parent = parent\n",
    "        self.left = None\n",
    "        self.right = None\n",
    "        self.probs = torch.normal(0, 1, size = ((100, )))\n",
    "        self.probs.requires_grad_(grad)\n",
    "        if(label==None and tree!=None):\n",
    "            tree.append(self.probs)\n",
    "\n",
    "\n",
    "def buildBinaryTree(labels, root, tree):\n",
    "    if len(labels) == 1:\n",
    "        return Node(labels[0], parent=root, grad=False)\n",
    "    else:\n",
    "        split_idx = len(labels) // 2\n",
    "        left_labels, right_labels = [], []\n",
    "        for i, label in enumerate(labels):\n",
    "            if i < split_idx:\n",
    "                left_labels.append(label)\n",
    "            else:\n",
    "                right_labels.append(label)\n",
    "        node = Node(parent=root, tree=tree)\n",
    "        node.left = buildBinaryTree(left_labels, root=node, tree=tree)\n",
    "        node.right = buildBinaryTree(right_labels, root=node, tree=tree)\n",
    "        return node\n",
    "\n",
    "# Build a binary tree using CIFAR-100 dataset\n",
    "labels = [i for i in range(100)]\n",
    "tree = []\n",
    "root = buildBinaryTree(labels, None, tree)"
   ]
  },
  {
   "cell_type": "markdown",
   "metadata": {
    "id": "Cr6A4cnZBVZS"
   },
   "source": [
    "### Printing leaf nodes of the tree -"
   ]
  },
  {
   "cell_type": "code",
   "execution_count": 17,
   "metadata": {
    "colab": {
     "base_uri": "https://localhost:8080/"
    },
    "id": "GtJv6eMdBVZS",
    "outputId": "813c0748-594e-49fc-d6a7-4a8d5ba709c9",
    "scrolled": false
   },
   "outputs": [
    {
     "name": "stdout",
     "output_type": "stream",
     "text": [
      "leaf nodes -\n",
      "0 1 2 3 4 5 6 7 8 9 10 11 12 13 14 15 16 17 18 19 20 21 22 23 24 25 26 27 28 29 30 31 32 33 34 35 36 37 38 39 40 41 42 43 44 45 46 47 48 49 50 51 52 53 54 55 56 57 58 59 60 61 62 63 64 65 66 67 68 69 70 71 72 73 74 75 76 77 78 79 80 81 82 83 84 85 86 87 88 89 90 91 92 93 94 95 96 97 98 99 "
     ]
    }
   ],
   "source": [
    "node_temp = root\n",
    "visited = [False for i in range(100)]\n",
    "label_node = {}\n",
    "print(\"leaf nodes -\")\n",
    "def print_tree(root):\n",
    "    if(root != None):\n",
    "        if(root.left != None):\n",
    "            if(root.left.label != None and visited[root.left.label] == False):\n",
    "                #tree.append(root.left)\n",
    "                visited[root.left.label] = True\n",
    "                print(root.left.label, end = \" \")\n",
    "                label_node[root.left.label] = root.left\n",
    "            print_tree(root.left)\n",
    "\n",
    "    if(root.right != None):\n",
    "        if(root.right.label != None and visited[root.right.label] == False):\n",
    "            #tree.append(root.right)\n",
    "            visited[root.right.label] = True\n",
    "            print(root.right.label, end = \" \")\n",
    "            label_node[root.right.label] = root.right\n",
    "        print_tree(root.right)\n",
    "\n",
    "    #else:\n",
    "    #    print(\"hit the boottom\")\n",
    "\n",
    "print_tree(node_temp)"
   ]
  },
  {
   "cell_type": "markdown",
   "metadata": {
    "id": "42PTQ9PqBVZS"
   },
   "source": [
    "### Calculating the paths to be traversed from the root to the Leaf for a particular label -"
   ]
  },
  {
   "cell_type": "code",
   "execution_count": 18,
   "metadata": {
    "id": "5xGxcUaUBVZT"
   },
   "outputs": [],
   "source": [
    "paths = {}\n",
    "for label in range(100):\n",
    "    paths[label] = []\n",
    "    base_node = label_node[label]\n",
    "    while base_node.parent != root :\n",
    "        paths[label].append(base_node.parent)\n",
    "        base_node = base_node.parent\n",
    "    paths[label].append(base_node.parent)\n",
    "\n",
    "#print(paths[71])\n",
    "#print(len(paths[71]))"
   ]
  },
  {
   "cell_type": "markdown",
   "metadata": {
    "id": "kEVIrE3MBVZT"
   },
   "source": [
    "### Same Base Architecture but the forward pass accomodates for Hierarchical SoftMax -"
   ]
  },
  {
   "cell_type": "code",
   "execution_count": 19,
   "metadata": {
    "id": "vjFYanMyBVZT"
   },
   "outputs": [],
   "source": [
    "class HierarchicalConvNet(nn.Module):\n",
    "    def __init__(self):\n",
    "        super(HierarchicalConvNet, self).__init__()\n",
    "        self.conv1 = nn.Conv2d(3, 6, 3, padding = 1)\n",
    "        self.conv2 = nn.Conv2d(6, 8, 3, padding = 1)\n",
    "        self.conv3 = nn.Conv2d(8, 10, 3, padding = 1)\n",
    "        self.pool = nn.MaxPool2d(2, 2)\n",
    "        self.fc1 = nn.Linear(4*4*10, 200)\n",
    "        self.fc2 = nn.Linear(200, 100)\n",
    "    \n",
    "    def forward(self, x, paths=None, mode='train'):\n",
    "        # -> n, 3, 32, 32\n",
    "        batch_size = x.shape[0]\n",
    "        x = self.pool(F.relu(self.conv1(x)))  # -> n, 6, 16, 16\n",
    "        x = self.pool(F.relu(self.conv2(x)))  # -> n, 8, 8, 8\n",
    "        x = self.pool(F.relu(self.conv3(x)))  # -> n, 10, 4, 4\n",
    "        x = torch.flatten(x, start_dim = 1)   # -> n, 160\n",
    "        x = F.relu(self.fc1(x))               # -> n, 200\n",
    "        x = F.relu(self.fc2(x))               # -> n, 100\n",
    "\n",
    "        #return x\n",
    "\n",
    "        if(mode == 'train'):\n",
    "            probs = []\n",
    "            for example in range(batch_size):\n",
    "                prob = [1]\n",
    "                path = paths[example]\n",
    "                length = len(path)\n",
    "                for j in range(length - 1, 0, -1): #reverse traversal\n",
    "                    curr_node = path[j]\n",
    "                    w = curr_node.probs\n",
    "                    if(curr_node.left == path[j - 1]):\n",
    "                        prob.append(prob[-1]*torch.sigmoid(torch.dot(x[example], w)))\n",
    "                    else:\n",
    "                        prob.append(prob[-1]*(1 - torch.sigmoid(torch.dot(x[example], w)))) #torch.reshape(\n",
    "                probs.append(prob[-1])\n",
    "             \n",
    "            return torch.stack(probs) #torch.reshape(probs, (1,))\n",
    "\n",
    "        else:\n",
    "            with torch.no_grad():\n",
    "                predictions = []\n",
    "                for example in range(batch_size):\n",
    "                    temp_node = root\n",
    "                    while not(temp_node.left==None and temp_node.right==None):\n",
    "                        temp = torch.sigmoid(torch.dot(x[example], temp_node.probs))\n",
    "                        if(temp.item() > 0.5):\n",
    "                            temp_node = temp_node.left\n",
    "                        else:\n",
    "                            temp_node = temp_node.right\n",
    "                    predictions.append(temp_node.label)\n",
    "\n",
    "            return predictions\n",
    "\n",
    "H_model = HierarchicalConvNet().to(device)"
   ]
  },
  {
   "cell_type": "markdown",
   "metadata": {
    "id": "2FeKAnP6BVZU"
   },
   "source": [
    "### Now we have two distinct sets of parameters to optimize - "
   ]
  },
  {
   "cell_type": "code",
   "execution_count": 20,
   "metadata": {
    "id": "NRH5A3MXBVZU"
   },
   "outputs": [],
   "source": [
    "H_criterion = torch.nn.BCELoss() \n",
    "H_optimizer1 = torch.optim.SGD(H_model.parameters(), lr=learning_rate)\n",
    "H_optimizer2 = torch.optim.SGD([probs for probs in tree], lr=learning_rate)"
   ]
  },
  {
   "cell_type": "markdown",
   "metadata": {
    "id": "lF-skc14BVZU"
   },
   "source": [
    "### Training pt.3 -"
   ]
  },
  {
   "cell_type": "code",
   "execution_count": 21,
   "metadata": {
    "colab": {
     "base_uri": "https://localhost:8080/"
    },
    "id": "u8MAORyrBVZU",
    "outputId": "1f032d67-8508-431b-ae0d-411d801f7971",
    "scrolled": true
   },
   "outputs": [
    {
     "name": "stdout",
     "output_type": "stream",
     "text": [
      "Epoch [1/30], Step [0/50000], Loss: 3.5227\n",
      "Epoch [1/30], Step [5000/50000], Loss: 3.9806\n",
      "Epoch [1/30], Step [10000/50000], Loss: 3.6323\n",
      "Epoch [1/30], Step [15000/50000], Loss: 3.9361\n",
      "Epoch [1/30], Step [20000/50000], Loss: 1.4274\n",
      "Epoch [1/30], Step [25000/50000], Loss: 2.4946\n",
      "Epoch [1/30], Step [30000/50000], Loss: 3.5983\n",
      "Epoch [1/30], Step [35000/50000], Loss: 3.1524\n",
      "Epoch [1/30], Step [40000/50000], Loss: 3.9554\n",
      "Epoch [1/30], Step [45000/50000], Loss: 3.3815\n",
      "Epoch [2/30], Step [0/50000], Loss: 4.0832\n",
      "Epoch [2/30], Step [5000/50000], Loss: 3.1765\n",
      "Epoch [2/30], Step [10000/50000], Loss: 3.7823\n",
      "Epoch [2/30], Step [15000/50000], Loss: 2.0767\n",
      "Epoch [2/30], Step [20000/50000], Loss: 3.2926\n",
      "Epoch [2/30], Step [25000/50000], Loss: 3.8424\n",
      "Epoch [2/30], Step [30000/50000], Loss: 2.3470\n",
      "Epoch [2/30], Step [35000/50000], Loss: 4.7137\n",
      "Epoch [2/30], Step [40000/50000], Loss: 4.3189\n",
      "Epoch [2/30], Step [45000/50000], Loss: 3.9706\n",
      "Epoch [3/30], Step [0/50000], Loss: 5.0160\n",
      "Epoch [3/30], Step [5000/50000], Loss: 3.5059\n",
      "Epoch [3/30], Step [10000/50000], Loss: 4.0196\n",
      "Epoch [3/30], Step [15000/50000], Loss: 3.9582\n",
      "Epoch [3/30], Step [20000/50000], Loss: 3.9709\n",
      "Epoch [3/30], Step [25000/50000], Loss: 3.0344\n",
      "Epoch [3/30], Step [30000/50000], Loss: 4.7666\n",
      "Epoch [3/30], Step [35000/50000], Loss: 2.1763\n",
      "Epoch [3/30], Step [40000/50000], Loss: 3.6168\n",
      "Epoch [3/30], Step [45000/50000], Loss: 1.9300\n",
      "Epoch [4/30], Step [0/50000], Loss: 2.3823\n",
      "Epoch [4/30], Step [5000/50000], Loss: 2.5173\n",
      "Epoch [4/30], Step [10000/50000], Loss: 4.2013\n",
      "Epoch [4/30], Step [15000/50000], Loss: 5.3840\n",
      "Epoch [4/30], Step [20000/50000], Loss: 3.6685\n",
      "Epoch [4/30], Step [25000/50000], Loss: 0.7592\n",
      "Epoch [4/30], Step [30000/50000], Loss: 4.1132\n",
      "Epoch [4/30], Step [35000/50000], Loss: 2.9675\n",
      "Epoch [4/30], Step [40000/50000], Loss: 2.6472\n",
      "Epoch [4/30], Step [45000/50000], Loss: 3.1802\n",
      "Epoch [5/30], Step [0/50000], Loss: 2.7984\n",
      "Epoch [5/30], Step [5000/50000], Loss: 2.9732\n",
      "Epoch [5/30], Step [10000/50000], Loss: 2.3103\n",
      "Epoch [5/30], Step [15000/50000], Loss: 1.9953\n",
      "Epoch [5/30], Step [20000/50000], Loss: 3.2622\n",
      "Epoch [5/30], Step [25000/50000], Loss: 4.5717\n",
      "Epoch [5/30], Step [30000/50000], Loss: 2.4854\n",
      "Epoch [5/30], Step [35000/50000], Loss: 2.2786\n",
      "Epoch [5/30], Step [40000/50000], Loss: 2.9326\n",
      "Epoch [5/30], Step [45000/50000], Loss: 2.7326\n",
      "Epoch [6/30], Step [0/50000], Loss: 1.9556\n",
      "Epoch [6/30], Step [5000/50000], Loss: 3.5121\n",
      "Epoch [6/30], Step [10000/50000], Loss: 2.9438\n",
      "Epoch [6/30], Step [15000/50000], Loss: 1.6941\n",
      "Epoch [6/30], Step [20000/50000], Loss: 3.5062\n",
      "Epoch [6/30], Step [25000/50000], Loss: 3.2960\n",
      "Epoch [6/30], Step [30000/50000], Loss: 2.1431\n",
      "Epoch [6/30], Step [35000/50000], Loss: 2.2343\n",
      "Epoch [6/30], Step [40000/50000], Loss: 2.2637\n",
      "Epoch [6/30], Step [45000/50000], Loss: 1.3055\n",
      "Epoch [7/30], Step [0/50000], Loss: 2.0694\n",
      "Epoch [7/30], Step [5000/50000], Loss: 1.1393\n",
      "Epoch [7/30], Step [10000/50000], Loss: 1.8207\n",
      "Epoch [7/30], Step [15000/50000], Loss: 2.6529\n",
      "Epoch [7/30], Step [20000/50000], Loss: 2.8215\n",
      "Epoch [7/30], Step [25000/50000], Loss: 5.0777\n",
      "Epoch [7/30], Step [30000/50000], Loss: 3.3984\n",
      "Epoch [7/30], Step [35000/50000], Loss: 1.7231\n",
      "Epoch [7/30], Step [40000/50000], Loss: 3.3702\n",
      "Epoch [7/30], Step [45000/50000], Loss: 1.0660\n",
      "Epoch [8/30], Step [0/50000], Loss: 6.3667\n",
      "Epoch [8/30], Step [5000/50000], Loss: 2.6341\n",
      "Epoch [8/30], Step [10000/50000], Loss: 4.9139\n",
      "Epoch [8/30], Step [15000/50000], Loss: 2.4570\n",
      "Epoch [8/30], Step [20000/50000], Loss: 2.7016\n",
      "Epoch [8/30], Step [25000/50000], Loss: 0.4754\n",
      "Epoch [8/30], Step [30000/50000], Loss: 0.8229\n",
      "Epoch [8/30], Step [35000/50000], Loss: 2.9008\n",
      "Epoch [8/30], Step [40000/50000], Loss: 1.2355\n",
      "Epoch [8/30], Step [45000/50000], Loss: 3.9504\n",
      "Epoch [9/30], Step [0/50000], Loss: 1.4807\n",
      "Epoch [9/30], Step [5000/50000], Loss: 3.8382\n",
      "Epoch [9/30], Step [10000/50000], Loss: 3.1886\n",
      "Epoch [9/30], Step [15000/50000], Loss: 2.8158\n",
      "Epoch [9/30], Step [20000/50000], Loss: 4.2417\n",
      "Epoch [9/30], Step [25000/50000], Loss: 2.9269\n",
      "Epoch [9/30], Step [30000/50000], Loss: 2.1856\n",
      "Epoch [9/30], Step [35000/50000], Loss: 5.5616\n",
      "Epoch [9/30], Step [40000/50000], Loss: 3.5321\n",
      "Epoch [9/30], Step [45000/50000], Loss: 3.1893\n",
      "Epoch [10/30], Step [0/50000], Loss: 0.4426\n",
      "Epoch [10/30], Step [5000/50000], Loss: 1.9450\n",
      "Epoch [10/30], Step [10000/50000], Loss: 3.2691\n",
      "Epoch [10/30], Step [15000/50000], Loss: 0.7843\n",
      "Epoch [10/30], Step [20000/50000], Loss: 3.1107\n",
      "Epoch [10/30], Step [25000/50000], Loss: 2.4599\n",
      "Epoch [10/30], Step [30000/50000], Loss: 3.8222\n",
      "Epoch [10/30], Step [35000/50000], Loss: 3.9257\n",
      "Epoch [10/30], Step [40000/50000], Loss: 1.9888\n",
      "Epoch [10/30], Step [45000/50000], Loss: 3.4734\n",
      "Epoch [11/30], Step [0/50000], Loss: 2.9180\n",
      "Epoch [11/30], Step [5000/50000], Loss: 2.5510\n",
      "Epoch [11/30], Step [10000/50000], Loss: 1.5064\n",
      "Epoch [11/30], Step [15000/50000], Loss: 1.0650\n",
      "Epoch [11/30], Step [20000/50000], Loss: 4.4912\n",
      "Epoch [11/30], Step [25000/50000], Loss: 0.1939\n",
      "Epoch [11/30], Step [30000/50000], Loss: 2.6372\n",
      "Epoch [11/30], Step [35000/50000], Loss: 2.4260\n",
      "Epoch [11/30], Step [40000/50000], Loss: 3.3399\n",
      "Epoch [11/30], Step [45000/50000], Loss: 1.3570\n",
      "Epoch [12/30], Step [0/50000], Loss: 2.3823\n",
      "Epoch [12/30], Step [5000/50000], Loss: 1.8195\n",
      "Epoch [12/30], Step [10000/50000], Loss: 2.3319\n",
      "Epoch [12/30], Step [15000/50000], Loss: 1.4208\n",
      "Epoch [12/30], Step [20000/50000], Loss: 1.1209\n",
      "Epoch [12/30], Step [25000/50000], Loss: 4.3670\n",
      "Epoch [12/30], Step [30000/50000], Loss: 2.9474\n",
      "Epoch [12/30], Step [35000/50000], Loss: 2.5601\n",
      "Epoch [12/30], Step [40000/50000], Loss: 2.8685\n",
      "Epoch [12/30], Step [45000/50000], Loss: 0.5597\n",
      "Epoch [13/30], Step [0/50000], Loss: 5.9880\n",
      "Epoch [13/30], Step [5000/50000], Loss: 3.4080\n",
      "Epoch [13/30], Step [10000/50000], Loss: 4.3018\n",
      "Epoch [13/30], Step [15000/50000], Loss: 1.1191\n",
      "Epoch [13/30], Step [20000/50000], Loss: 2.5195\n",
      "Epoch [13/30], Step [25000/50000], Loss: 1.4655\n",
      "Epoch [13/30], Step [30000/50000], Loss: 4.0852\n",
      "Epoch [13/30], Step [35000/50000], Loss: 2.5383\n",
      "Epoch [13/30], Step [40000/50000], Loss: 1.6610\n",
      "Epoch [13/30], Step [45000/50000], Loss: 3.0377\n",
      "Epoch [14/30], Step [0/50000], Loss: 3.2285\n",
      "Epoch [14/30], Step [5000/50000], Loss: 2.8037\n",
      "Epoch [14/30], Step [10000/50000], Loss: 2.3075\n",
      "Epoch [14/30], Step [15000/50000], Loss: 3.6974\n",
      "Epoch [14/30], Step [20000/50000], Loss: 3.7664\n",
      "Epoch [14/30], Step [25000/50000], Loss: 4.3619\n",
      "Epoch [14/30], Step [30000/50000], Loss: 1.6428\n",
      "Epoch [14/30], Step [35000/50000], Loss: 0.5132\n",
      "Epoch [14/30], Step [40000/50000], Loss: 1.4727\n",
      "Epoch [14/30], Step [45000/50000], Loss: 3.4055\n",
      "Epoch [15/30], Step [0/50000], Loss: 0.7972\n",
      "Epoch [15/30], Step [5000/50000], Loss: 5.5197\n",
      "Epoch [15/30], Step [10000/50000], Loss: 3.5440\n",
      "Epoch [15/30], Step [15000/50000], Loss: 2.6876\n",
      "Epoch [15/30], Step [20000/50000], Loss: 6.2889\n",
      "Epoch [15/30], Step [25000/50000], Loss: 2.0986\n",
      "Epoch [15/30], Step [30000/50000], Loss: 1.7296\n",
      "Epoch [15/30], Step [35000/50000], Loss: 0.7196\n",
      "Epoch [15/30], Step [40000/50000], Loss: 3.4889\n",
      "Epoch [15/30], Step [45000/50000], Loss: 1.5757\n",
      "Epoch [16/30], Step [0/50000], Loss: 1.0176\n",
      "Epoch [16/30], Step [5000/50000], Loss: 2.5122\n",
      "Epoch [16/30], Step [10000/50000], Loss: 1.9010\n",
      "Epoch [16/30], Step [15000/50000], Loss: 1.4473\n",
      "Epoch [16/30], Step [20000/50000], Loss: 1.3277\n",
      "Epoch [16/30], Step [25000/50000], Loss: 2.5282\n",
      "Epoch [16/30], Step [30000/50000], Loss: 6.4907\n",
      "Epoch [16/30], Step [35000/50000], Loss: 1.9441\n",
      "Epoch [16/30], Step [40000/50000], Loss: 2.6017\n",
      "Epoch [16/30], Step [45000/50000], Loss: 0.8870\n",
      "Epoch [17/30], Step [0/50000], Loss: 1.1642\n",
      "Epoch [17/30], Step [5000/50000], Loss: 3.8226\n",
      "Epoch [17/30], Step [10000/50000], Loss: 2.2208\n",
      "Epoch [17/30], Step [15000/50000], Loss: 2.0309\n",
      "Epoch [17/30], Step [20000/50000], Loss: 0.6217\n",
      "Epoch [17/30], Step [25000/50000], Loss: 2.3739\n",
      "Epoch [17/30], Step [30000/50000], Loss: 1.3885\n",
      "Epoch [17/30], Step [35000/50000], Loss: 3.6291\n",
      "Epoch [17/30], Step [40000/50000], Loss: 1.0346\n",
      "Epoch [17/30], Step [45000/50000], Loss: 7.0761\n",
      "Epoch [18/30], Step [0/50000], Loss: 3.0848\n",
      "Epoch [18/30], Step [5000/50000], Loss: 3.0752\n",
      "Epoch [18/30], Step [10000/50000], Loss: 1.2305\n",
      "Epoch [18/30], Step [15000/50000], Loss: 4.5610\n",
      "Epoch [18/30], Step [20000/50000], Loss: 2.4083\n",
      "Epoch [18/30], Step [25000/50000], Loss: 2.4543\n",
      "Epoch [18/30], Step [30000/50000], Loss: 1.4736\n",
      "Epoch [18/30], Step [35000/50000], Loss: 3.7490\n",
      "Epoch [18/30], Step [40000/50000], Loss: 3.2550\n",
      "Epoch [18/30], Step [45000/50000], Loss: 2.4781\n",
      "Epoch [19/30], Step [0/50000], Loss: 1.4857\n",
      "Epoch [19/30], Step [5000/50000], Loss: 5.2228\n",
      "Epoch [19/30], Step [10000/50000], Loss: 2.4484\n",
      "Epoch [19/30], Step [15000/50000], Loss: 3.5537\n",
      "Epoch [19/30], Step [20000/50000], Loss: 1.6253\n",
      "Epoch [19/30], Step [25000/50000], Loss: 0.0571\n",
      "Epoch [19/30], Step [30000/50000], Loss: 4.6436\n",
      "Epoch [19/30], Step [35000/50000], Loss: 0.8968\n",
      "Epoch [19/30], Step [40000/50000], Loss: 2.2892\n",
      "Epoch [19/30], Step [45000/50000], Loss: 3.6216\n",
      "Epoch [20/30], Step [0/50000], Loss: 1.7851\n",
      "Epoch [20/30], Step [5000/50000], Loss: 0.3478\n",
      "Epoch [20/30], Step [10000/50000], Loss: 4.3601\n",
      "Epoch [20/30], Step [15000/50000], Loss: 0.1412\n",
      "Epoch [20/30], Step [20000/50000], Loss: 1.3688\n",
      "Epoch [20/30], Step [25000/50000], Loss: 2.3900\n",
      "Epoch [20/30], Step [30000/50000], Loss: 1.7845\n",
      "Epoch [20/30], Step [35000/50000], Loss: 3.2147\n",
      "Epoch [20/30], Step [40000/50000], Loss: 2.9668\n",
      "Epoch [20/30], Step [45000/50000], Loss: 4.4667\n",
      "Epoch [21/30], Step [0/50000], Loss: 1.8021\n",
      "Epoch [21/30], Step [5000/50000], Loss: 2.9320\n",
      "Epoch [21/30], Step [10000/50000], Loss: 3.2851\n",
      "Epoch [21/30], Step [15000/50000], Loss: 1.6262\n",
      "Epoch [21/30], Step [20000/50000], Loss: 1.9351\n",
      "Epoch [21/30], Step [25000/50000], Loss: 0.7132\n",
      "Epoch [21/30], Step [30000/50000], Loss: 2.0410\n",
      "Epoch [21/30], Step [35000/50000], Loss: 2.0366\n",
      "Epoch [21/30], Step [40000/50000], Loss: 2.3177\n",
      "Epoch [21/30], Step [45000/50000], Loss: 0.7499\n",
      "Epoch [22/30], Step [0/50000], Loss: 1.8793\n",
      "Epoch [22/30], Step [5000/50000], Loss: 3.4276\n",
      "Epoch [22/30], Step [10000/50000], Loss: 1.5489\n",
      "Epoch [22/30], Step [15000/50000], Loss: 0.8546\n",
      "Epoch [22/30], Step [20000/50000], Loss: 3.2205\n",
      "Epoch [22/30], Step [25000/50000], Loss: 0.3432\n",
      "Epoch [22/30], Step [30000/50000], Loss: 1.0673\n",
      "Epoch [22/30], Step [35000/50000], Loss: 1.6559\n",
      "Epoch [22/30], Step [40000/50000], Loss: 1.1333\n",
      "Epoch [22/30], Step [45000/50000], Loss: 2.9684\n",
      "Epoch [23/30], Step [0/50000], Loss: 2.8071\n",
      "Epoch [23/30], Step [5000/50000], Loss: 1.0468\n",
      "Epoch [23/30], Step [10000/50000], Loss: 2.3973\n",
      "Epoch [23/30], Step [15000/50000], Loss: 1.3988\n",
      "Epoch [23/30], Step [20000/50000], Loss: 1.0269\n",
      "Epoch [23/30], Step [25000/50000], Loss: 1.4814\n",
      "Epoch [23/30], Step [30000/50000], Loss: 4.1451\n",
      "Epoch [23/30], Step [35000/50000], Loss: 2.6087\n",
      "Epoch [23/30], Step [40000/50000], Loss: 1.7377\n",
      "Epoch [23/30], Step [45000/50000], Loss: 0.5231\n",
      "Epoch [24/30], Step [0/50000], Loss: 1.6630\n",
      "Epoch [24/30], Step [5000/50000], Loss: 3.8448\n",
      "Epoch [24/30], Step [10000/50000], Loss: 4.7078\n",
      "Epoch [24/30], Step [15000/50000], Loss: 3.2041\n",
      "Epoch [24/30], Step [20000/50000], Loss: 0.7637\n",
      "Epoch [24/30], Step [25000/50000], Loss: 2.0072\n",
      "Epoch [24/30], Step [30000/50000], Loss: 4.8326\n",
      "Epoch [24/30], Step [35000/50000], Loss: 2.8269\n",
      "Epoch [24/30], Step [40000/50000], Loss: 5.2343\n",
      "Epoch [24/30], Step [45000/50000], Loss: 2.2975\n",
      "Epoch [25/30], Step [0/50000], Loss: 1.3353\n",
      "Epoch [25/30], Step [5000/50000], Loss: 1.5780\n",
      "Epoch [25/30], Step [10000/50000], Loss: 2.2104\n",
      "Epoch [25/30], Step [15000/50000], Loss: 3.1007\n",
      "Epoch [25/30], Step [20000/50000], Loss: 2.1183\n",
      "Epoch [25/30], Step [25000/50000], Loss: 5.7258\n",
      "Epoch [25/30], Step [30000/50000], Loss: 3.2727\n",
      "Epoch [25/30], Step [35000/50000], Loss: 1.6632\n",
      "Epoch [25/30], Step [40000/50000], Loss: 3.9396\n",
      "Epoch [25/30], Step [45000/50000], Loss: 2.4748\n",
      "Epoch [26/30], Step [0/50000], Loss: 0.0076\n",
      "Epoch [26/30], Step [5000/50000], Loss: 2.2743\n",
      "Epoch [26/30], Step [10000/50000], Loss: 6.1412\n",
      "Epoch [26/30], Step [15000/50000], Loss: 1.9965\n",
      "Epoch [26/30], Step [20000/50000], Loss: 4.8133\n",
      "Epoch [26/30], Step [25000/50000], Loss: 3.0532\n",
      "Epoch [26/30], Step [30000/50000], Loss: 1.2419\n",
      "Epoch [26/30], Step [35000/50000], Loss: 0.0883\n",
      "Epoch [26/30], Step [40000/50000], Loss: 0.9417\n",
      "Epoch [26/30], Step [45000/50000], Loss: 0.8328\n",
      "Epoch [27/30], Step [0/50000], Loss: 3.7997\n",
      "Epoch [27/30], Step [5000/50000], Loss: 2.8621\n",
      "Epoch [27/30], Step [10000/50000], Loss: 1.4975\n",
      "Epoch [27/30], Step [15000/50000], Loss: 4.6498\n",
      "Epoch [27/30], Step [20000/50000], Loss: 2.8065\n",
      "Epoch [27/30], Step [25000/50000], Loss: 1.1391\n",
      "Epoch [27/30], Step [30000/50000], Loss: 0.3432\n",
      "Epoch [27/30], Step [35000/50000], Loss: 5.3519\n",
      "Epoch [27/30], Step [40000/50000], Loss: 1.2763\n",
      "Epoch [27/30], Step [45000/50000], Loss: 4.9608\n",
      "Epoch [28/30], Step [0/50000], Loss: 1.8899\n",
      "Epoch [28/30], Step [5000/50000], Loss: 4.5069\n",
      "Epoch [28/30], Step [10000/50000], Loss: 1.7149\n",
      "Epoch [28/30], Step [15000/50000], Loss: 0.7820\n",
      "Epoch [28/30], Step [20000/50000], Loss: 1.2105\n",
      "Epoch [28/30], Step [25000/50000], Loss: 2.9964\n",
      "Epoch [28/30], Step [30000/50000], Loss: 2.1096\n",
      "Epoch [28/30], Step [35000/50000], Loss: 2.1774\n",
      "Epoch [28/30], Step [40000/50000], Loss: 4.7770\n",
      "Epoch [28/30], Step [45000/50000], Loss: 2.7302\n",
      "Epoch [29/30], Step [0/50000], Loss: 2.8253\n",
      "Epoch [29/30], Step [5000/50000], Loss: 0.2680\n",
      "Epoch [29/30], Step [10000/50000], Loss: 2.0516\n",
      "Epoch [29/30], Step [15000/50000], Loss: 2.5361\n",
      "Epoch [29/30], Step [20000/50000], Loss: 2.0722\n",
      "Epoch [29/30], Step [25000/50000], Loss: 0.1146\n",
      "Epoch [29/30], Step [30000/50000], Loss: 3.8099\n",
      "Epoch [29/30], Step [35000/50000], Loss: 1.5630\n",
      "Epoch [29/30], Step [40000/50000], Loss: 3.5669\n",
      "Epoch [29/30], Step [45000/50000], Loss: 2.3101\n",
      "Epoch [30/30], Step [0/50000], Loss: 3.0075\n",
      "Epoch [30/30], Step [5000/50000], Loss: 0.0584\n",
      "Epoch [30/30], Step [10000/50000], Loss: 3.4366\n",
      "Epoch [30/30], Step [15000/50000], Loss: 0.8187\n",
      "Epoch [30/30], Step [20000/50000], Loss: 3.3712\n",
      "Epoch [30/30], Step [25000/50000], Loss: 3.1049\n",
      "Epoch [30/30], Step [30000/50000], Loss: 0.2130\n",
      "Epoch [30/30], Step [35000/50000], Loss: 1.4540\n",
      "Epoch [30/30], Step [40000/50000], Loss: 0.0795\n",
      "Epoch [30/30], Step [45000/50000], Loss: 2.6194\n",
      "Finished Training\n"
     ]
    }
   ],
   "source": [
    "n_total_steps = len(train_loader)\n",
    "loss_hist_H = []\n",
    "iter_no_H = []\n",
    "num_epochs = 30\n",
    "times = []\n",
    "current = time.time()\n",
    "for epoch in range(num_epochs):\n",
    "    for i, (images, labels) in enumerate(train_loader):\n",
    "        # origin shape: [4, 3, 32, 32] = 4, 3, 1024\n",
    "        images = images.to(device)\n",
    "        labels = labels.to(device)\n",
    "\n",
    "        # Forward pass\n",
    "        outputs = H_model(images, [paths[label.item()] for label in labels])\n",
    "        ground_op = torch.ones_like(labels, dtype = torch.float32)\n",
    "        loss = H_criterion(outputs, ground_op)\n",
    "\n",
    "        # Backward and optimize\n",
    "        loss.backward()\n",
    "        H_optimizer1.step()\n",
    "        H_optimizer2.step()\n",
    "        #if(i < 100):\n",
    "        #  print(f'Epoch [{epoch + 1}/{num_epochs}], Step [{i}/{n_total_steps}], Loss: {loss.item():.4f}')\n",
    "\n",
    "        H_optimizer1.zero_grad()\n",
    "        H_optimizer2.zero_grad()\n",
    "\n",
    "        if (i + 1)%(n_total_steps/5) == 0:\n",
    "            loss_hist_H.append(loss.item())\n",
    "            iter_no_H.append(i + epoch*n_total_steps)\n",
    "\n",
    "        if i%(n_total_steps/10) == 0: #i < 5000 or \n",
    "            print(f'Epoch [{epoch + 1}/{num_epochs}], Step [{i}/{n_total_steps}], Loss: {loss.item():.4f}')\n",
    "            \n",
    "    times.append(time.time() - current)\n",
    "    current = time.time()\n",
    "        \n",
    "avg_time_H = sum(times)/len(times)\n",
    "\n",
    "print('Finished Training')"
   ]
  },
  {
   "cell_type": "markdown",
   "metadata": {
    "id": "HQGv0KCOBVZV"
   },
   "source": [
    "### Model Evaluation -"
   ]
  },
  {
   "cell_type": "code",
   "execution_count": 22,
   "metadata": {
    "colab": {
     "base_uri": "https://localhost:8080/",
     "height": 613
    },
    "id": "nxhY3eK7BVZW",
    "outputId": "383eb0da-8cab-4e7c-ea90-a7b3a820bab5"
   },
   "outputs": [
    {
     "name": "stdout",
     "output_type": "stream",
     "text": [
      "Accuracy of the network: 8.92 %\n"
     ]
    },
    {
     "data": {
      "image/png": "[encoded data removed]",
      "text/plain": [
       "<Figure size 640x480 with 1 Axes>"
      ]
     },
     "metadata": {},
     "output_type": "display_data"
    },
    {
     "name": "stdout",
     "output_type": "stream",
     "text": [
      "[[ 3. 51.  0. ...  0.  2.  0.]\n",
      " [ 0. 31.  0. ...  1.  0.  0.]\n",
      " [ 0. 22.  0. ...  1.  1.  0.]\n",
      " ...\n",
      " [ 0.  0.  0. ... 14.  2.  0.]\n",
      " [ 0.  8.  0. ...  2.  8.  0.]\n",
      " [ 0.  4.  0. ...  0.  7.  0.]]\n",
      "max precision at class - 0 = 100.0%\n"
     ]
    }
   ],
   "source": [
    "with torch.no_grad():\n",
    "    confusion_matrix_hierarchical = np.zeros((100, 100))\n",
    "    n_correct = 0\n",
    "    n_samples = 0\n",
    "    for images, labels in test_loader:\n",
    "        outputs = H_model(images, mode='test')\n",
    "        batch_size = labels.shape[0]\n",
    "        for i in range(batch_size):\n",
    "            if(outputs[i] == labels[i]):\n",
    "                n_correct += 1\n",
    "            confusion_matrix_hierarchical[labels[i]][outputs[i]] += 1\n",
    "        n_samples += labels.shape[0]\n",
    "\n",
    "    acc = 100.0 * n_correct / n_samples\n",
    "    print(f'Accuracy of the network: {acc} %')\n",
    "    \n",
    "    plt.imshow(confusion_matrix_hierarchical, cmap = 'gray')\n",
    "    plt.title('CONFUSION MATRIX - ')\n",
    "    plt.show()\n",
    "    \n",
    "    print(confusion_matrix_hierarchical)\n",
    "    \n",
    "    precision = np.zeros((100,))\n",
    "    recall = np.zeros((100,))\n",
    "    \n",
    "    for classes in range(100):\n",
    "        if(np.sum(confusion_matrix_hierarchical[:,classes]) > 0):\n",
    "            precision[classes] = confusion_matrix_hierarchical[classes][classes]/np.sum(confusion_matrix_hierarchical[:,classes])\n",
    "        else:\n",
    "            precision[classes] = 0\n",
    "        if(np.sum(confusion_matrix_hierarchical[classes,:]) > 0):    \n",
    "            recall[classes] = confusion_matrix_hierarchical[classes][classes]/np.sum(confusion_matrix_hierarchical[classes,:])\n",
    "        else:\n",
    "            recall[classes] = 0\n",
    "    \n",
    "    max_p = precision[np.argmax(precision)]\n",
    "    \n",
    "    print(f'max precision at class - {np.argmax(precision)} = {max_p*100}%')"
   ]
  },
  {
   "cell_type": "markdown",
   "metadata": {
    "id": "AajBjkVsBVZY"
   },
   "source": [
    "## Adaptive - "
   ]
  },
  {
   "cell_type": "code",
   "execution_count": 23,
   "metadata": {
    "id": "P35g2eUeBVZY"
   },
   "outputs": [],
   "source": [
    "class AdaptiveConvNet(nn.Module):\n",
    "    def __init__(self):\n",
    "        super(AdaptiveConvNet, self).__init__()\n",
    "        self.conv1 = nn.Conv2d(3, 6, 3, padding = 1)\n",
    "        self.conv2 = nn.Conv2d(6, 8, 3, padding = 1)\n",
    "        self.conv3 = nn.Conv2d(8, 10, 3, padding = 1)\n",
    "        self.pool = nn.MaxPool2d(2, 2)\n",
    "        self.fc1 = nn.Linear(4*4*10, 200)\n",
    "        self.fc2 = nn.Linear(200, 100)\n",
    "        #self.hierarchical_softmax = HierarchicalSoftmaxLinear(in_features = 100, root = root)\n",
    "\n",
    "    def forward(self, x):\n",
    "        # -> n, 3, 32, 32\n",
    "        x = self.pool(F.relu(self.conv1(x)))  # -> n, 6, 16, 16\n",
    "        x = self.pool(F.relu(self.conv2(x)))  # -> n, 8, 8, 8\n",
    "        x = self.pool(F.relu(self.conv3(x)))  # -> n, 10, 4, 4\n",
    "        x = torch.flatten(x, start_dim = 1)   # -> n, 160\n",
    "        x = F.relu(self.fc1(x))               # -> n, 200\n",
    "        x = F.relu(self.fc2(x))               # -> n, 100\n",
    "        #out = self.hierarchical_softmax(x)\n",
    "        return x\n",
    "\n",
    "\n",
    "A_model = AdaptiveConvNet().to(device)"
   ]
  },
  {
   "cell_type": "markdown",
   "metadata": {
    "id": "jpKA8S9fBVZZ"
   },
   "source": [
    "### Using pyTorch's in-built implementation -"
   ]
  },
  {
   "cell_type": "code",
   "execution_count": 24,
   "metadata": {
    "id": "TlNneRFGBVZZ"
   },
   "outputs": [],
   "source": [
    "A_criterion = torch.nn.AdaptiveLogSoftmaxWithLoss(100, 100, [10, 90])\n",
    "A_optimizer = torch.optim.SGD(A_model.parameters(), lr=learning_rate)\n",
    "num_epochs = 10"
   ]
  },
  {
   "cell_type": "code",
   "execution_count": 25,
   "metadata": {
    "colab": {
     "base_uri": "https://localhost:8080/"
    },
    "id": "IicPNORtBVZZ",
    "outputId": "31aef476-77a8-4ee9-b025-2b81abbdb715",
    "scrolled": true
   },
   "outputs": [
    {
     "name": "stdout",
     "output_type": "stream",
     "text": [
      "Epoch [1/10], Step [5000/50000], Loss: 4.4108\n",
      "Epoch [1/10], Step [10000/50000], Loss: 4.2215\n",
      "Epoch [1/10], Step [15000/50000], Loss: 4.8188\n",
      "Epoch [1/10], Step [20000/50000], Loss: 4.8415\n",
      "Epoch [1/10], Step [25000/50000], Loss: 4.5598\n",
      "Epoch [1/10], Step [30000/50000], Loss: 4.8101\n",
      "Epoch [1/10], Step [35000/50000], Loss: 4.2517\n",
      "Epoch [1/10], Step [40000/50000], Loss: 4.7686\n",
      "Epoch [1/10], Step [45000/50000], Loss: 4.4813\n",
      "Epoch [1/10], Step [50000/50000], Loss: 4.4871\n",
      "Epoch [2/10], Step [5000/50000], Loss: 3.9175\n",
      "Epoch [2/10], Step [10000/50000], Loss: 4.2999\n",
      "Epoch [2/10], Step [15000/50000], Loss: 4.2109\n",
      "Epoch [2/10], Step [20000/50000], Loss: 4.4193\n",
      "Epoch [2/10], Step [25000/50000], Loss: 4.6251\n",
      "Epoch [2/10], Step [30000/50000], Loss: 4.5967\n",
      "Epoch [2/10], Step [35000/50000], Loss: 4.5477\n",
      "Epoch [2/10], Step [40000/50000], Loss: 4.4784\n",
      "Epoch [2/10], Step [45000/50000], Loss: 4.6490\n",
      "Epoch [2/10], Step [50000/50000], Loss: 4.6270\n",
      "Epoch [3/10], Step [5000/50000], Loss: 4.4124\n",
      "Epoch [3/10], Step [10000/50000], Loss: 4.1571\n",
      "Epoch [3/10], Step [15000/50000], Loss: 4.7411\n",
      "Epoch [3/10], Step [20000/50000], Loss: 4.7614\n",
      "Epoch [3/10], Step [25000/50000], Loss: 4.6158\n",
      "Epoch [3/10], Step [30000/50000], Loss: 4.2567\n",
      "Epoch [3/10], Step [35000/50000], Loss: 5.2062\n",
      "Epoch [3/10], Step [40000/50000], Loss: 4.4805\n",
      "Epoch [3/10], Step [45000/50000], Loss: 4.5595\n",
      "Epoch [3/10], Step [50000/50000], Loss: 4.6332\n",
      "Epoch [4/10], Step [5000/50000], Loss: 4.5231\n",
      "Epoch [4/10], Step [10000/50000], Loss: 4.5586\n",
      "Epoch [4/10], Step [15000/50000], Loss: 4.7179\n",
      "Epoch [4/10], Step [20000/50000], Loss: 3.0279\n",
      "Epoch [4/10], Step [25000/50000], Loss: 4.9592\n",
      "Epoch [4/10], Step [30000/50000], Loss: 4.7408\n",
      "Epoch [4/10], Step [35000/50000], Loss: 4.0419\n",
      "Epoch [4/10], Step [40000/50000], Loss: 5.0823\n",
      "Epoch [4/10], Step [45000/50000], Loss: 4.5447\n",
      "Epoch [4/10], Step [50000/50000], Loss: 4.0262\n",
      "Epoch [5/10], Step [5000/50000], Loss: 4.7787\n",
      "Epoch [5/10], Step [10000/50000], Loss: 3.6292\n",
      "Epoch [5/10], Step [15000/50000], Loss: 4.8306\n",
      "Epoch [5/10], Step [20000/50000], Loss: 3.7702\n",
      "Epoch [5/10], Step [25000/50000], Loss: 4.9644\n",
      "Epoch [5/10], Step [30000/50000], Loss: 4.1178\n",
      "Epoch [5/10], Step [35000/50000], Loss: 4.7026\n",
      "Epoch [5/10], Step [40000/50000], Loss: 4.3699\n",
      "Epoch [5/10], Step [45000/50000], Loss: 4.8263\n",
      "Epoch [5/10], Step [50000/50000], Loss: 5.4289\n",
      "Epoch [6/10], Step [5000/50000], Loss: 4.4910\n",
      "Epoch [6/10], Step [10000/50000], Loss: 5.0032\n",
      "Epoch [6/10], Step [15000/50000], Loss: 4.7572\n",
      "Epoch [6/10], Step [20000/50000], Loss: 3.2210\n",
      "Epoch [6/10], Step [25000/50000], Loss: 5.6651\n",
      "Epoch [6/10], Step [30000/50000], Loss: 3.9890\n",
      "Epoch [6/10], Step [35000/50000], Loss: 4.9298\n",
      "Epoch [6/10], Step [40000/50000], Loss: 4.2845\n",
      "Epoch [6/10], Step [45000/50000], Loss: 4.4963\n",
      "Epoch [6/10], Step [50000/50000], Loss: 4.1421\n",
      "Epoch [7/10], Step [5000/50000], Loss: 4.6565\n",
      "Epoch [7/10], Step [10000/50000], Loss: 5.6732\n",
      "Epoch [7/10], Step [15000/50000], Loss: 5.6666\n",
      "Epoch [7/10], Step [20000/50000], Loss: 3.1423\n",
      "Epoch [7/10], Step [25000/50000], Loss: 3.1169\n",
      "Epoch [7/10], Step [30000/50000], Loss: 2.1161\n",
      "Epoch [7/10], Step [35000/50000], Loss: 3.0946\n",
      "Epoch [7/10], Step [40000/50000], Loss: 4.6478\n",
      "Epoch [7/10], Step [45000/50000], Loss: 4.2823\n",
      "Epoch [7/10], Step [50000/50000], Loss: 3.5636\n",
      "Epoch [8/10], Step [5000/50000], Loss: 5.7454\n",
      "Epoch [8/10], Step [10000/50000], Loss: 3.7605\n",
      "Epoch [8/10], Step [15000/50000], Loss: 5.0728\n",
      "Epoch [8/10], Step [20000/50000], Loss: 4.2831\n",
      "Epoch [8/10], Step [25000/50000], Loss: 4.3318\n",
      "Epoch [8/10], Step [30000/50000], Loss: 4.2633\n",
      "Epoch [8/10], Step [35000/50000], Loss: 4.2200\n",
      "Epoch [8/10], Step [40000/50000], Loss: 4.1057\n",
      "Epoch [8/10], Step [45000/50000], Loss: 4.1803\n",
      "Epoch [8/10], Step [50000/50000], Loss: 7.5155\n",
      "Epoch [9/10], Step [5000/50000], Loss: 4.1962\n",
      "Epoch [9/10], Step [10000/50000], Loss: 2.4005\n",
      "Epoch [9/10], Step [15000/50000], Loss: 2.1354\n",
      "Epoch [9/10], Step [20000/50000], Loss: 5.1706\n",
      "Epoch [9/10], Step [25000/50000], Loss: 4.0562\n",
      "Epoch [9/10], Step [30000/50000], Loss: 4.1443\n",
      "Epoch [9/10], Step [35000/50000], Loss: 4.2376\n",
      "Epoch [9/10], Step [40000/50000], Loss: 4.7870\n",
      "Epoch [9/10], Step [45000/50000], Loss: 3.8472\n",
      "Epoch [9/10], Step [50000/50000], Loss: 2.1202\n",
      "Epoch [10/10], Step [5000/50000], Loss: 3.6435\n",
      "Epoch [10/10], Step [10000/50000], Loss: 3.1767\n",
      "Epoch [10/10], Step [15000/50000], Loss: 3.5263\n",
      "Epoch [10/10], Step [20000/50000], Loss: 3.4620\n",
      "Epoch [10/10], Step [25000/50000], Loss: 4.8541\n",
      "Epoch [10/10], Step [30000/50000], Loss: 2.4778\n",
      "Epoch [10/10], Step [35000/50000], Loss: 2.9410\n",
      "Epoch [10/10], Step [40000/50000], Loss: 2.9820\n",
      "Epoch [10/10], Step [45000/50000], Loss: 5.0387\n",
      "Epoch [10/10], Step [50000/50000], Loss: 6.9807\n",
      "Finished Training\n"
     ]
    }
   ],
   "source": [
    "n_total_steps = len(train_loader)\n",
    "loss_hist_A = []\n",
    "iter_no_A = []\n",
    "times = []\n",
    "current = time.time()\n",
    "for epoch in range(num_epochs):\n",
    "    for i, (images, labels) in enumerate(train_loader):\n",
    "        # origin shape: [4, 3, 32, 32] = 4, 3, 1024\n",
    "        images = images.to(device)\n",
    "        labels = labels.to(device)\n",
    "\n",
    "        # Forward pass\n",
    "        outputs = A_model(images)\n",
    "        output, loss = A_criterion(outputs, labels)\n",
    "\n",
    "        # Backward and optimize\n",
    "        A_optimizer.zero_grad()\n",
    "        loss.backward()\n",
    "        A_optimizer.step()\n",
    "        \n",
    "        if (i + 1) % (n_total_steps/5) == 0:\n",
    "            loss_hist_A.append(loss.item())\n",
    "            iter_no_A.append(i + epoch*epoch)\n",
    "\n",
    "        if (i + 1) % (n_total_steps/10) == 0:\n",
    "            print (f'Epoch [{epoch+1}/{num_epochs}], Step [{i+1}/{n_total_steps}], Loss: {loss.item():.4f}')\n",
    "            \n",
    "    times.append(time.time() - current)\n",
    "    current = time.time()\n",
    "        \n",
    "avg_time_A = sum(times)/len(times)\n",
    "\n",
    "print('Finished Training')"
   ]
  },
  {
   "cell_type": "code",
   "execution_count": 26,
   "metadata": {
    "colab": {
     "base_uri": "https://localhost:8080/",
     "height": 613
    },
    "id": "c286oO4yBVZa",
    "outputId": "e5b8f424-8b3d-4dcd-807a-21b7473120a7"
   },
   "outputs": [
    {
     "name": "stdout",
     "output_type": "stream",
     "text": [
      "Accuracy of the network: 0.83 %\n"
     ]
    },
    {
     "data": {
      "image/png": "[encoded data removed]",
      "text/plain": [
       "<Figure size 640x480 with 1 Axes>"
      ]
     },
     "metadata": {},
     "output_type": "display_data"
    },
    {
     "name": "stdout",
     "output_type": "stream",
     "text": [
      "[[0. 1. 0. ... 0. 0. 0.]\n",
      " [0. 1. 0. ... 0. 1. 2.]\n",
      " [0. 6. 0. ... 0. 0. 0.]\n",
      " ...\n",
      " [0. 0. 0. ... 0. 1. 0.]\n",
      " [0. 7. 0. ... 0. 0. 0.]\n",
      " [0. 6. 0. ... 0. 1. 0.]]\n",
      "max precision at class - 34 = 11.538461538461538%\n"
     ]
    }
   ],
   "source": [
    "with torch.no_grad():\n",
    "    confusion_matrix_adaptive = np.zeros((100, 100))\n",
    "    n_correct = 0\n",
    "    n_samples = 0\n",
    "    for images, labels in test_loader:\n",
    "        images = images.to(device)\n",
    "        labels = labels.to(device)\n",
    "        outputs = A_model(images)\n",
    "        # max returns (value ,index)\n",
    "        _, predicted = torch.max(outputs, 1)\n",
    "        for i in range(batch_size):\n",
    "            confusion_matrix_adaptive[labels[i]][predicted[i]] += 1\n",
    "        n_samples += labels.size(0)\n",
    "        n_correct += (predicted == labels).sum().item()\n",
    "\n",
    "    acc = 100.0 * n_correct / n_samples\n",
    "    print(f'Accuracy of the network: {acc} %')\n",
    "    \n",
    "    plt.imshow(confusion_matrix_adaptive, cmap = 'gray')\n",
    "    plt.title('CONFUSION MATRIX - ')\n",
    "    plt.show()\n",
    "    \n",
    "    print(confusion_matrix_adaptive)\n",
    "    \n",
    "    precision = np.zeros((100,))\n",
    "    recall = np.zeros((100,))\n",
    "    \n",
    "    for classes in range(100):\n",
    "        if(np.sum(confusion_matrix_adaptive[:,classes]) > 0):\n",
    "            precision[classes] = confusion_matrix_adaptive[classes][classes]/np.sum(confusion_matrix_adaptive[:,classes])\n",
    "        else:\n",
    "            precision[classes] = 0\n",
    "        if(np.sum(confusion_matrix_adaptive[classes,:]) > 0):    \n",
    "            recall[classes] = confusion_matrix_gumbel[classes][classes]/np.sum(confusion_matrix_adaptive[classes,:])\n",
    "        else:\n",
    "            recall[classes] = 0\n",
    "    \n",
    "    max_p = precision[np.argmax(precision)]\n",
    "    \n",
    "    print(f'max precision at class - {np.argmax(precision)} = {max_p*100}%')"
   ]
  },
  {
   "cell_type": "markdown",
   "metadata": {
    "id": "JrivqJvPBVZa"
   },
   "source": [
    "## Loss vs iteration graphs - "
   ]
  },
  {
   "cell_type": "markdown",
   "metadata": {
    "id": "EE8KpgBNBVZa"
   },
   "source": [
    "### Normal Softmax - "
   ]
  },
  {
   "cell_type": "code",
   "execution_count": 27,
   "metadata": {
    "colab": {
     "base_uri": "https://localhost:8080/",
     "height": 470
    },
    "id": "YGde-WATBVZa",
    "outputId": "5a9e9feb-7dfa-4962-df9d-86e5a55ddca7"
   },
   "outputs": [
    {
     "data": {
      "text/plain": [
       "Text(0.5, 1.0, 'iterations vs loss - Normal')"
      ]
     },
     "execution_count": 27,
     "metadata": {},
     "output_type": "execute_result"
    },
    {
     "data": {
      "image/png": "[encoded data removed]",
      "text/plain": [
       "<Figure size 640x480 with 1 Axes>"
      ]
     },
     "metadata": {},
     "output_type": "display_data"
    }
   ],
   "source": [
    "plt.plot(iter_no_N, loss_hist_N)\n",
    "plt.title(\"iterations vs loss - Normal\")"
   ]
  },
  {
   "cell_type": "markdown",
   "metadata": {
    "id": "1up9a4XBBVZb"
   },
   "source": [
    "### Gumbel SoftMax - "
   ]
  },
  {
   "cell_type": "code",
   "execution_count": 28,
   "metadata": {
    "colab": {
     "base_uri": "https://localhost:8080/",
     "height": 470
    },
    "id": "SogFSgCOBVZb",
    "outputId": "5991562c-0f1c-4eb4-9e5d-0a09611bb644"
   },
   "outputs": [
    {
     "data": {
      "text/plain": [
       "Text(0.5, 1.0, 'iterations vs loss - Gumbel')"
      ]
     },
     "execution_count": 28,
     "metadata": {},
     "output_type": "execute_result"
    },
    {
     "data": {
      "image/png": "[encoded data removed]",
      "text/plain": [
       "<Figure size 640x480 with 1 Axes>"
      ]
     },
     "metadata": {},
     "output_type": "display_data"
    }
   ],
   "source": [
    "plt.plot(iter_no_G, loss_hist_G)\n",
    "plt.title(\"iterations vs loss - Gumbel\")"
   ]
  },
  {
   "cell_type": "markdown",
   "metadata": {
    "id": "2FqNuWgIBVZb"
   },
   "source": [
    "### Hierarchical SoftMax -"
   ]
  },
  {
   "cell_type": "code",
   "execution_count": 29,
   "metadata": {
    "colab": {
     "base_uri": "https://localhost:8080/",
     "height": 488
    },
    "id": "LR8Ef-kJBVZb",
    "outputId": "f9ee3e52-25b2-4040-8881-91d7ec85a31a"
   },
   "outputs": [
    {
     "data": {
      "text/plain": [
       "Text(0.5, 1.0, 'iterations vs loss - Hierarchical')"
      ]
     },
     "execution_count": 29,
     "metadata": {},
     "output_type": "execute_result"
    },
    {
     "data": {
      "image/png": "[encoded data removed]",
      "text/plain": [
       "<Figure size 640x480 with 1 Axes>"
      ]
     },
     "metadata": {},
     "output_type": "display_data"
    }
   ],
   "source": [
    "plt.plot(iter_no_H, loss_hist_H)\n",
    "plt.title(\"iterations vs loss - Hierarchical\")"
   ]
  },
  {
   "cell_type": "markdown",
   "metadata": {
    "id": "pn9PoCthBVZc"
   },
   "source": [
    "### Adaptive SoftMax -"
   ]
  },
  {
   "cell_type": "code",
   "execution_count": 30,
   "metadata": {
    "colab": {
     "base_uri": "https://localhost:8080/",
     "height": 470
    },
    "id": "2If3mcNTBVZc",
    "outputId": "045dcb8d-1c1d-49a4-b1a2-efd11315e88e"
   },
   "outputs": [
    {
     "data": {
      "text/plain": [
       "Text(0.5, 1.0, 'iterations vs loss - Adaptive')"
      ]
     },
     "execution_count": 30,
     "metadata": {},
     "output_type": "execute_result"
    },
    {
     "data": {
      "image/png": "[encoded data removed]",
      "text/plain": [
       "<Figure size 640x480 with 1 Axes>"
      ]
     },
     "metadata": {},
     "output_type": "display_data"
    }
   ],
   "source": [
    "plt.plot(iter_no_A, loss_hist_A)\n",
    "plt.title(\"iterations vs loss - Adaptive\")"
   ]
  },
  {
   "cell_type": "markdown",
   "metadata": {
    "id": "tfmc1ZJnBVZc"
   },
   "source": [
    "## Time per epoch -"
   ]
  },
  {
   "cell_type": "code",
   "execution_count": 31,
   "metadata": {
    "colab": {
     "base_uri": "https://localhost:8080/"
    },
    "id": "VukYPHpBBVZd",
    "outputId": "4242dd7b-c751-4f28-df40-f009d98c0c7f"
   },
   "outputs": [
    {
     "name": "stdout",
     "output_type": "stream",
     "text": [
      "With normal softmax, each epoch lasted 65.34760665893555s\n",
      "With gumbel softmax, each epoch lasted 72.78400754928589s\n",
      "With hierarchical softmax, each epoch lasted 94.77085032463074s\n",
      "With adaptive softmax, each epoch lasted 90.80197658538819s\n"
     ]
    }
   ],
   "source": [
    "print(f\"With normal softmax, each epoch lasted {avg_time_N}s\")\n",
    "print(f\"With gumbel softmax, each epoch lasted {avg_time_G}s\")\n",
    "print(f\"With hierarchical softmax, each epoch lasted {avg_time_H}s\")\n",
    "print(f\"With adaptive softmax, each epoch lasted {avg_time_A}s\")"
   ]
  },
  {
   "cell_type": "markdown",
   "metadata": {
    "id": "0WIVKPEGCIH8"
   },
   "source": [
    "## Model Architectures -\n",
    "\n"
   ]
  },
  {
   "cell_type": "code",
   "execution_count": 32,
   "metadata": {
    "colab": {
     "base_uri": "https://localhost:8080/"
    },
    "id": "85TfVT4IBozg",
    "outputId": "f6d0c728-9c81-4405-91fa-20e21af47be1"
   },
   "outputs": [
    {
     "name": "stdout",
     "output_type": "stream",
     "text": [
      "Architecture of Normal Model -\n",
      "NormalConvNet(\n",
      "  (conv1): Conv2d(3, 6, kernel_size=(3, 3), stride=(1, 1), padding=(1, 1))\n",
      "  (conv2): Conv2d(6, 8, kernel_size=(3, 3), stride=(1, 1), padding=(1, 1))\n",
      "  (conv3): Conv2d(8, 10, kernel_size=(3, 3), stride=(1, 1), padding=(1, 1))\n",
      "  (pool): MaxPool2d(kernel_size=2, stride=2, padding=0, dilation=1, ceil_mode=False)\n",
      "  (fc1): Linear(in_features=160, out_features=200, bias=True)\n",
      "  (fc2): Linear(in_features=200, out_features=100, bias=True)\n",
      ")\n",
      "Architecture of Gumbel Model -\n",
      "GumbelConvNet(\n",
      "  (conv1): Conv2d(3, 6, kernel_size=(3, 3), stride=(1, 1), padding=(1, 1))\n",
      "  (conv2): Conv2d(6, 8, kernel_size=(3, 3), stride=(1, 1), padding=(1, 1))\n",
      "  (conv3): Conv2d(8, 10, kernel_size=(3, 3), stride=(1, 1), padding=(1, 1))\n",
      "  (pool): MaxPool2d(kernel_size=2, stride=2, padding=0, dilation=1, ceil_mode=False)\n",
      "  (fc1): Linear(in_features=160, out_features=200, bias=True)\n",
      "  (fc2): Linear(in_features=200, out_features=100, bias=True)\n",
      ")\n",
      "Architecture of Hierarchical Model -\n",
      "HierarchicalConvNet(\n",
      "  (conv1): Conv2d(3, 6, kernel_size=(3, 3), stride=(1, 1), padding=(1, 1))\n",
      "  (conv2): Conv2d(6, 8, kernel_size=(3, 3), stride=(1, 1), padding=(1, 1))\n",
      "  (conv3): Conv2d(8, 10, kernel_size=(3, 3), stride=(1, 1), padding=(1, 1))\n",
      "  (pool): MaxPool2d(kernel_size=2, stride=2, padding=0, dilation=1, ceil_mode=False)\n",
      "  (fc1): Linear(in_features=160, out_features=200, bias=True)\n",
      "  (fc2): Linear(in_features=200, out_features=100, bias=True)\n",
      ")\n",
      "Architecture of Adaptive Model -\n",
      "AdaptiveConvNet(\n",
      "  (conv1): Conv2d(3, 6, kernel_size=(3, 3), stride=(1, 1), padding=(1, 1))\n",
      "  (conv2): Conv2d(6, 8, kernel_size=(3, 3), stride=(1, 1), padding=(1, 1))\n",
      "  (conv3): Conv2d(8, 10, kernel_size=(3, 3), stride=(1, 1), padding=(1, 1))\n",
      "  (pool): MaxPool2d(kernel_size=2, stride=2, padding=0, dilation=1, ceil_mode=False)\n",
      "  (fc1): Linear(in_features=160, out_features=200, bias=True)\n",
      "  (fc2): Linear(in_features=200, out_features=100, bias=True)\n",
      ")\n"
     ]
    }
   ],
   "source": [
    "print(\"Architecture of Normal Model -\")\n",
    "print(model)\n",
    "print(\"Architecture of Gumbel Model -\")\n",
    "print(G_model)\n",
    "print(\"Architecture of Hierarchical Model -\")\n",
    "print(H_model)\n",
    "print(\"Architecture of Adaptive Model -\")\n",
    "print(A_model)"
   ]
  },
  {
   "cell_type": "markdown",
   "metadata": {
    "id": "MJPB1yqyBVZd"
   },
   "source": [
    "## Precision, Recall and F1 scores -"
   ]
  },
  {
   "cell_type": "code",
   "execution_count": 33,
   "metadata": {
    "colab": {
     "base_uri": "https://localhost:8080/"
    },
    "id": "nCsf1gq9BVZe",
    "outputId": "1388b9de-9b32-4cd8-c349-c4e31c8bcfbd"
   },
   "outputs": [
    {
     "name": "stdout",
     "output_type": "stream",
     "text": [
      "for Normal SoftMax, Precision - 0.2952, Recall - 0.2827 and F1-score is - 0.2888\n",
      "for Gumbel SoftMax, Precision - 0.3449, Recall - 0.2740 and F1-score is - 0.3054\n",
      "for Hierarchical SoftMax, Precision - 0.1082, Recall - 0.0892 and F1-score is - 0.0978\n",
      "for Adaptive SoftMax, Precision - 0.0107, Recall - 0.0083 and F1-score is - 0.0093\n"
     ]
    }
   ],
   "source": [
    "precision_N = 0.\n",
    "recall_N = 0.\n",
    "precision_G = 0.\n",
    "recall_G = 0.\n",
    "precision_H = 0.\n",
    "recall_H = 0.\n",
    "precision_A = 0.\n",
    "recall_A = 0.\n",
    "\n",
    "\n",
    "for classes in range(100):\n",
    "    \n",
    "    #Normal -\n",
    "    if(np.sum(confusion_matrix_normal[:,classes]) > 0):\n",
    "        precision_N += confusion_matrix_normal[classes][classes]/np.sum(confusion_matrix_normal[:,classes])\n",
    "    if(np.sum(confusion_matrix_normal[classes,:]) > 0):    \n",
    "        recall_N += confusion_matrix_normal[classes][classes]/np.sum(confusion_matrix_normal[classes,:])\n",
    "        \n",
    "    #Gumbel - \n",
    "    if(np.sum(confusion_matrix_normal[:,classes]) > 0):\n",
    "        precision_G += confusion_matrix_gumbel[classes][classes]/np.sum(confusion_matrix_normal[:,classes])\n",
    "    if(np.sum(confusion_matrix_normal[classes,:]) > 0):    \n",
    "        recall_G += confusion_matrix_gumbel[classes][classes]/np.sum(confusion_matrix_normal[classes,:])\n",
    "        \n",
    "    #Hierarchical -\n",
    "    if(np.sum(confusion_matrix_normal[:,classes]) > 0):\n",
    "        precision_H += confusion_matrix_hierarchical[classes][classes]/np.sum(confusion_matrix_normal[:,classes])\n",
    "    if(np.sum(confusion_matrix_normal[classes,:]) > 0):    \n",
    "        recall_H += confusion_matrix_hierarchical[classes][classes]/np.sum(confusion_matrix_normal[classes,:])\n",
    "        \n",
    "    #Adaptive - \n",
    "    if(np.sum(confusion_matrix_normal[:,classes]) > 0):\n",
    "        precision_A += confusion_matrix_adaptive[classes][classes]/np.sum(confusion_matrix_normal[:,classes])\n",
    "    if(np.sum(confusion_matrix_normal[classes,:]) > 0):    \n",
    "        recall_A += confusion_matrix_adaptive[classes][classes]/np.sum(confusion_matrix_normal[classes,:])\n",
    "\n",
    "precision_N /= 100\n",
    "recall_N /= 100\n",
    "precision_G /= 100\n",
    "recall_G /= 100\n",
    "precision_H /= 100\n",
    "recall_H /= 100\n",
    "precision_A /= 100\n",
    "recall_A /= 100\n",
    "F1_N = 2/((1/precision_N) + (1/recall_N))\n",
    "F1_G = 2/((1/precision_G) + (1/recall_G))\n",
    "F1_H = 2/((1/precision_H) + (1/recall_H))\n",
    "F1_A = 2/((1/precision_A) + (1/recall_A))\n",
    "\n",
    "print(f\"for Normal SoftMax, Precision - {precision_N:.4f}, Recall - {recall_N:.4f} and F1-score is - {F1_N:.4f}\")\n",
    "print(f\"for Gumbel SoftMax, Precision - {precision_G:.4f}, Recall - {recall_G:.4f} and F1-score is - {F1_G:.4f}\")\n",
    "print(f\"for Hierarchical SoftMax, Precision - {precision_H:.4f}, Recall - {recall_H:.4f} and F1-score is - {F1_H:.4f}\")\n",
    "print(f\"for Adaptive SoftMax, Precision - {precision_A:.4f}, Recall - {recall_A:.4f} and F1-score is - {F1_A:.4f}\")"
   ]
  },
  {
   "cell_type": "markdown",
   "metadata": {
    "id": "lDe-oYNfBVZf"
   },
   "source": [
    "## Thanks!"
   ]
  }
 ],
 "metadata": {
  "colab": {
   "provenance": []
  },
  "kernelspec": {
   "display_name": "Python 3 (ipykernel)",
   "language": "python",
   "name": "python3"
  },
  "language_info": {
   "codemirror_mode": {
    "name": "ipython",
    "version": 3
   },
   "file_extension": ".py",
   "mimetype": "text/x-python",
   "name": "python",
   "nbconvert_exporter": "python",
   "pygments_lexer": "ipython3",
   "version": "3.8.5"
  }
 },
 "nbformat": 4,
 "nbformat_minor": 1
}
