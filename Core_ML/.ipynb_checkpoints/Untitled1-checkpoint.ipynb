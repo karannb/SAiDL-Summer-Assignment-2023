{
 "cells": [
  {
   "cell_type": "code",
   "execution_count": 1,
   "id": "01c6c76b",
   "metadata": {},
   "outputs": [],
   "source": [
    "import torch\n",
    "import torch.nn as nn\n",
    "import torch.nn.functional as F\n",
    "import torchvision\n",
    "import torchvision.transforms as transforms\n",
    "import matplotlib.pyplot as plt\n",
    "import numpy as np"
   ]
  },
  {
   "cell_type": "code",
   "execution_count": 34,
   "id": "2fc2c4c3",
   "metadata": {},
   "outputs": [],
   "source": [
    "# Hyper-parameters \n",
    "num_epochs = 1\n",
    "batch_size = 1\n",
    "learning_rate = 0.01\n",
    "temp = 0.9"
   ]
  },
  {
   "cell_type": "code",
   "execution_count": 3,
   "id": "7bf36173",
   "metadata": {},
   "outputs": [],
   "source": [
    "# dataset has PILImage images of range [0, 1]. \n",
    "# We transform them to Tensors of normalized range [-1, 1]\n",
    "transform = transforms.Compose(\n",
    "    [transforms.ToTensor()])\n",
    "#,transforms.Normalize((0.5, 0.5, 0.5), (0.5, 0.5, 0.5))"
   ]
  },
  {
   "cell_type": "code",
   "execution_count": 4,
   "id": "d1fd9718",
   "metadata": {},
   "outputs": [
    {
     "name": "stdout",
     "output_type": "stream",
     "text": [
      "Files already downloaded and verified\n",
      "Files already downloaded and verified\n",
      "tensor([[[[0.7804, 0.7686, 0.7647,  ..., 0.8471, 0.8510, 0.8784],\n",
      "          [0.7725, 0.7647, 0.7647,  ..., 0.9059, 0.9137, 0.9451],\n",
      "          [0.8706, 0.8353, 0.8196,  ..., 0.9529, 0.9569, 0.9804],\n",
      "          ...,\n",
      "          [0.2824, 0.2784, 0.2902,  ..., 0.8627, 0.7176, 0.6078],\n",
      "          [0.2824, 0.2980, 0.3294,  ..., 0.8706, 0.7333, 0.5686],\n",
      "          [0.3137, 0.3294, 0.3333,  ..., 0.8510, 0.8118, 0.6902]],\n",
      "\n",
      "         [[0.8431, 0.8275, 0.8235,  ..., 0.9059, 0.9059, 0.9176],\n",
      "          [0.8235, 0.8157, 0.8235,  ..., 0.9529, 0.9529, 0.9608],\n",
      "          [0.8863, 0.8627, 0.8588,  ..., 0.9804, 0.9765, 0.9804],\n",
      "          ...,\n",
      "          [0.2863, 0.2902, 0.3059,  ..., 0.8157, 0.6588, 0.5529],\n",
      "          [0.2941, 0.3176, 0.3490,  ..., 0.8314, 0.6824, 0.5176],\n",
      "          [0.3333, 0.3529, 0.3608,  ..., 0.8118, 0.7608, 0.6431]],\n",
      "\n",
      "         [[0.9765, 0.9569, 0.9529,  ..., 0.9804, 0.9804, 0.9882],\n",
      "          [0.9373, 0.9333, 0.9412,  ..., 0.9804, 0.9804, 0.9922],\n",
      "          [0.9647, 0.9490, 0.9529,  ..., 0.9843, 0.9843, 0.9922],\n",
      "          ...,\n",
      "          [0.3882, 0.4000, 0.4235,  ..., 0.8510, 0.7098, 0.5882],\n",
      "          [0.4078, 0.4353, 0.4784,  ..., 0.8627, 0.7529, 0.5843],\n",
      "          [0.4627, 0.4824, 0.4980,  ..., 0.8431, 0.8275, 0.7176]]]]) tensor([49])\n",
      "torch.Size([1, 3, 32, 32]) torch.Size([1])\n"
     ]
    }
   ],
   "source": [
    "# CIFAR10: 60000 32x32 color images in 100 classes, with 600 images per class\n",
    "train_dataset = torchvision.datasets.CIFAR100(root='./data', train=True,\n",
    "                                               download=True, transform=transform)\n",
    "\n",
    "test_dataset = torchvision.datasets.CIFAR100(root='./data', train=False,\n",
    "                                            download=True, transform=transform)\n",
    "\n",
    "train_loader = torch.utils.data.DataLoader(train_dataset, batch_size=batch_size,\n",
    "                                           shuffle=True)\n",
    "\n",
    "test_loader = torch.utils.data.DataLoader(test_dataset, batch_size=batch_size,\n",
    "                                          shuffle=False)\n",
    "\n",
    "output_iter = iter(test_loader)\n",
    "features, labels = next(output_iter)\n",
    "print(features, labels)\n",
    "print(features.size(), labels.size())"
   ]
  },
  {
   "cell_type": "code",
   "execution_count": 20,
   "id": "e9645650",
   "metadata": {},
   "outputs": [],
   "source": [
    "def gumbel_sample(shape, eps = 1e-8):\n",
    "    \n",
    "    U = torch.rand(shape)\n",
    "    #U = U.to(device)\n",
    "    return -torch.log(-torch.log(U + eps) + eps)\n",
    "\n",
    "#def gumbel_softmax(logits, temp):\n",
    "#    \n",
    "#    y_hat = logits + gumbel_sample(logits.size())\n",
    "#    y_hat = F.softmax(y_hat/temp, dim = -1)\n",
    "#    return y_hat"
   ]
  },
  {
   "cell_type": "code",
   "execution_count": 35,
   "id": "e865c3ab",
   "metadata": {},
   "outputs": [],
   "source": [
    "class GumbelConvNet(nn.Module):\n",
    "    def __init__(self, temp):\n",
    "        super(GumbelConvNet, self).__init__()\n",
    "        self.conv1 = nn.Conv2d(3, 6, 3, padding = 1)\n",
    "        self.conv2 = nn.Conv2d(6, 8, 3, padding = 1)\n",
    "        self.conv3 = nn.Conv2d(8, 10, 3, padding = 1)\n",
    "        self.pool = nn.MaxPool2d(2, 2)\n",
    "        self.fc1 = nn.Linear(4*4*10, 200)\n",
    "        self.fc2 = nn.Linear(200, 100)\n",
    "    \n",
    "    def forward(self, x, temp):\n",
    "        # -> n, 3, 32, 32\n",
    "        x = self.pool(F.relu(self.conv1(x)))  # -> n, 6, 16, 16\n",
    "        x = self.pool(F.relu(self.conv2(x)))  # -> n, 8, 8, 8\n",
    "        x = self.pool(F.relu(self.conv3(x)))  # -> n, 10, 4, 4\n",
    "        x = torch.flatten(x, start_dim = 1)   # -> n, 160\n",
    "        x = F.relu(self.fc1(x))               # -> n, 200\n",
    "        xout = F.relu(self.fc2(x))               # -> n, 100\n",
    "        #out = gumbel_softmax(x, temp = temp)\n",
    "        \n",
    "        return xout\n",
    "     \n",
    "G_model = GumbelConvNet(0.1)"
   ]
  },
  {
   "cell_type": "code",
   "execution_count": 36,
   "id": "be111b69",
   "metadata": {},
   "outputs": [],
   "source": [
    "class loss_gumbel(nn.Module):\n",
    "    \n",
    "    def __init__(self):\n",
    "        super(loss_gumbel, self).__init__()\n",
    "    \n",
    "    def forward(self, output, target):\n",
    "        \n",
    "        criterion = nn.CrossEntropyLoss()\n",
    "        y_hat = output + gumbel_sample(output.size())\n",
    "        loss = criterion(y_hat/temp, target)\n",
    "        \n",
    "        return loss"
   ]
  },
  {
   "cell_type": "code",
   "execution_count": 37,
   "id": "d9b33e91",
   "metadata": {},
   "outputs": [],
   "source": [
    "G_criterion = loss_gumbel()\n",
    "G_optimizer = torch.optim.SGD(G_model.parameters(), lr=learning_rate)"
   ]
  },
  {
   "cell_type": "code",
   "execution_count": 39,
   "id": "ba49147c",
   "metadata": {},
   "outputs": [
    {
     "name": "stdout",
     "output_type": "stream",
     "text": [
      "Epoch [1/1], Step [2000/50000], Loss: 7.0188\n",
      "Epoch [1/1], Step [4000/50000], Loss: 5.0458\n",
      "Epoch [1/1], Step [6000/50000], Loss: 7.6167\n",
      "Epoch [1/1], Step [8000/50000], Loss: 6.0366\n",
      "Epoch [1/1], Step [10000/50000], Loss: 8.1389\n",
      "Epoch [1/1], Step [12000/50000], Loss: 4.8056\n",
      "Epoch [1/1], Step [14000/50000], Loss: 5.2635\n",
      "Epoch [1/1], Step [16000/50000], Loss: 6.7642\n",
      "Epoch [1/1], Step [18000/50000], Loss: 4.5261\n",
      "Epoch [1/1], Step [20000/50000], Loss: 6.7094\n",
      "Epoch [1/1], Step [22000/50000], Loss: 5.8049\n",
      "Epoch [1/1], Step [24000/50000], Loss: 6.6942\n",
      "Epoch [1/1], Step [26000/50000], Loss: 7.6294\n",
      "Epoch [1/1], Step [28000/50000], Loss: 7.4552\n",
      "Epoch [1/1], Step [30000/50000], Loss: 7.4456\n",
      "Epoch [1/1], Step [32000/50000], Loss: 9.0163\n",
      "Epoch [1/1], Step [34000/50000], Loss: 5.6982\n",
      "Epoch [1/1], Step [36000/50000], Loss: 6.6623\n",
      "Epoch [1/1], Step [38000/50000], Loss: 8.0325\n",
      "Epoch [1/1], Step [40000/50000], Loss: 6.1286\n",
      "Epoch [1/1], Step [42000/50000], Loss: 9.9957\n",
      "Epoch [1/1], Step [44000/50000], Loss: 7.0649\n",
      "Epoch [1/1], Step [46000/50000], Loss: 6.5034\n",
      "Epoch [1/1], Step [48000/50000], Loss: 7.8278\n",
      "Epoch [1/1], Step [50000/50000], Loss: 2.0933\n",
      "Finished Training\n"
     ]
    }
   ],
   "source": [
    "n_total_steps = len(train_loader)\n",
    "for epoch in range(num_epochs):\n",
    "    for i, (images, labels) in enumerate(train_loader):\n",
    "        # origin shape: [4, 3, 32, 32] = 4, 3, 1024\n",
    "        images = images\n",
    "        labels = labels\n",
    "\n",
    "        # Forward pass\n",
    "        outputs = G_model(images, temp)\n",
    "        \n",
    "        #print(outputs.size(), labels.size())\n",
    "        loss = G_criterion(outputs, labels)\n",
    "\n",
    "        # Backward and optimize\n",
    "        G_optimizer.zero_grad()\n",
    "        loss.backward()\n",
    "        G_optimizer.step()\n",
    "\n",
    "        if (i + 1) % 2000 == 0:\n",
    "            #print(G_model.parameters())\n",
    "            print (f'Epoch [{epoch+1}/{num_epochs}], Step [{i + 1}/{n_total_steps}], Loss: {loss.item():.4f}')\n",
    "\n",
    "print('Finished Training')"
   ]
  },
  {
   "cell_type": "code",
   "execution_count": 40,
   "id": "efb7a66c",
   "metadata": {},
   "outputs": [
    {
     "name": "stdout",
     "output_type": "stream",
     "text": [
      "Accuracy of the network: 8.68 %\n"
     ]
    }
   ],
   "source": [
    "with torch.no_grad():\n",
    "    n_correct = 0\n",
    "    n_samples = 0\n",
    "    for images, labels in test_loader:\n",
    "        images = images\n",
    "        labels = labels\n",
    "        outputs = G_model(images, temp)\n",
    "        # max returns (value ,index)\n",
    "        _, predicted = torch.max(outputs, 1)\n",
    "        n_samples += labels.size(0)\n",
    "        n_correct += (predicted == labels).sum().item()\n",
    "\n",
    "    acc = 100.0 * n_correct / n_samples\n",
    "    print(f'Accuracy of the network: {acc} %')"
   ]
  },
  {
   "cell_type": "code",
   "execution_count": null,
   "id": "b76afa80",
   "metadata": {},
   "outputs": [],
   "source": []
  }
 ],
 "metadata": {
  "kernelspec": {
   "display_name": "Python 3 (ipykernel)",
   "language": "python",
   "name": "python3"
  },
  "language_info": {
   "codemirror_mode": {
    "name": "ipython",
    "version": 3
   },
   "file_extension": ".py",
   "mimetype": "text/x-python",
   "name": "python",
   "nbconvert_exporter": "python",
   "pygments_lexer": "ipython3",
   "version": "3.9.13"
  }
 },
 "nbformat": 4,
 "nbformat_minor": 5
}
