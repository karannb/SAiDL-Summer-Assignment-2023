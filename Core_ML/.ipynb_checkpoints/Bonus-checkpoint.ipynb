{
 "cells": [
  {
   "cell_type": "markdown",
   "id": "84941a4f",
   "metadata": {},
   "source": [
    "# SAiDL 2023, Core ML Bonus Part"
   ]
  },
  {
   "cell_type": "markdown",
   "id": "2ed02381",
   "metadata": {},
   "source": [
    "## Transformer based architecture in place of a CNN"
   ]
  },
  {
   "cell_type": "markdown",
   "id": "6efb6f8d",
   "metadata": {},
   "source": [
    "### Packages -"
   ]
  },
  {
   "cell_type": "code",
   "execution_count": 66,
   "id": "8914f193",
   "metadata": {},
   "outputs": [],
   "source": [
    "import torch\n",
    "import torchvision\n",
    "import torchvision.transforms as transforms\n",
    "import torch.optim as optim\n",
    "import torch.nn as nn\n",
    "import torch.nn.functional as F\n",
    "import matplotlib.pyplot as plt\n",
    "import numpy as np\n",
    "import time\n",
    "\n",
    "torch.random.manual_seed(1)\n",
    "np.random.seed(1)"
   ]
  },
  {
   "cell_type": "markdown",
   "id": "b197d8f8",
   "metadata": {},
   "source": [
    "### HyperParameters -"
   ]
  },
  {
   "cell_type": "code",
   "execution_count": 3,
   "id": "5ff52a43",
   "metadata": {},
   "outputs": [],
   "source": [
    "batch_size = 1\n",
    "num_epochs = 10\n",
    "mha_heads = 4"
   ]
  },
  {
   "cell_type": "markdown",
   "id": "bbcaf8eb",
   "metadata": {},
   "source": [
    "### General Transform -"
   ]
  },
  {
   "cell_type": "code",
   "execution_count": 4,
   "id": "b96ccdce",
   "metadata": {},
   "outputs": [],
   "source": [
    "transform = transforms.Compose(\n",
    "    [transforms.ToTensor(),\n",
    "     transforms.Normalize((0.5, 0.5, 0.5), (0.5, 0.5, 0.5))])"
   ]
  },
  {
   "cell_type": "markdown",
   "id": "ee28a6c0",
   "metadata": {},
   "source": [
    "### Dataset and DataLoader -"
   ]
  },
  {
   "cell_type": "code",
   "execution_count": 5,
   "id": "c5366cfd",
   "metadata": {},
   "outputs": [
    {
     "name": "stdout",
     "output_type": "stream",
     "text": [
      "Files already downloaded and verified\n",
      "Files already downloaded and verified\n",
      "tensor([[[[ 0.5608,  0.5373,  0.5294,  ...,  0.6941,  0.7020,  0.7569],\n",
      "          [ 0.5451,  0.5294,  0.5294,  ...,  0.8118,  0.8275,  0.8902],\n",
      "          [ 0.7412,  0.6706,  0.6392,  ...,  0.9059,  0.9137,  0.9608],\n",
      "          ...,\n",
      "          [-0.4353, -0.4431, -0.4196,  ...,  0.7255,  0.4353,  0.2157],\n",
      "          [-0.4353, -0.4039, -0.3412,  ...,  0.7412,  0.4667,  0.1373],\n",
      "          [-0.3725, -0.3412, -0.3333,  ...,  0.7020,  0.6235,  0.3804]],\n",
      "\n",
      "         [[ 0.6863,  0.6549,  0.6471,  ...,  0.8118,  0.8118,  0.8353],\n",
      "          [ 0.6471,  0.6314,  0.6471,  ...,  0.9059,  0.9059,  0.9216],\n",
      "          [ 0.7725,  0.7255,  0.7176,  ...,  0.9608,  0.9529,  0.9608],\n",
      "          ...,\n",
      "          [-0.4275, -0.4196, -0.3882,  ...,  0.6314,  0.3176,  0.1059],\n",
      "          [-0.4118, -0.3647, -0.3020,  ...,  0.6627,  0.3647,  0.0353],\n",
      "          [-0.3333, -0.2941, -0.2784,  ...,  0.6235,  0.5216,  0.2863]],\n",
      "\n",
      "         [[ 0.9529,  0.9137,  0.9059,  ...,  0.9608,  0.9608,  0.9765],\n",
      "          [ 0.8745,  0.8667,  0.8824,  ...,  0.9608,  0.9608,  0.9843],\n",
      "          [ 0.9294,  0.8980,  0.9059,  ...,  0.9686,  0.9686,  0.9843],\n",
      "          ...,\n",
      "          [-0.2235, -0.2000, -0.1529,  ...,  0.7020,  0.4196,  0.1765],\n",
      "          [-0.1843, -0.1294, -0.0431,  ...,  0.7255,  0.5059,  0.1686],\n",
      "          [-0.0745, -0.0353, -0.0039,  ...,  0.6863,  0.6549,  0.4353]]]]) tensor([49])\n",
      "torch.Size([1, 3, 32, 32]) torch.Size([1])\n"
     ]
    }
   ],
   "source": [
    "train_dataset = torchvision.datasets.CIFAR100(root='./data', train=True,\n",
    "                                               download=True, transform=transform)\n",
    "\n",
    "test_dataset = torchvision.datasets.CIFAR100(root='./data', train=False,\n",
    "                                            download=True, transform=transform)\n",
    "\n",
    "train_loader = torch.utils.data.DataLoader(train_dataset, batch_size=batch_size,\n",
    "                                           shuffle=True)\n",
    "\n",
    "test_loader = torch.utils.data.DataLoader(test_dataset, batch_size=batch_size,\n",
    "                                          shuffle=False)\n",
    "\n",
    "output_iter = iter(test_loader)\n",
    "features, labels = next(output_iter)\n",
    "print(features, labels)\n",
    "print(features.size(), labels.size())"
   ]
  },
  {
   "cell_type": "markdown",
   "id": "f5f0eba3",
   "metadata": {},
   "source": [
    "### Example image -"
   ]
  },
  {
   "cell_type": "code",
   "execution_count": 6,
   "id": "ac678e9a",
   "metadata": {},
   "outputs": [
    {
     "data": {
      "image/png": "[encoded data removed]",
      "text/plain": [
       "<Figure size 640x480 with 1 Axes>"
      ]
     },
     "metadata": {},
     "output_type": "display_data"
    }
   ],
   "source": [
    "def imshow(img):\n",
    "    img = img / 2 + 0.5  # unnormalize\n",
    "    npimg = img.numpy()\n",
    "    plt.imshow(np.transpose(npimg, (1, 2, 0)))\n",
    "    plt.show()\n",
    "\n",
    "\n",
    "# get some random training images\n",
    "dataiter = iter(train_loader)\n",
    "images, labels = next(dataiter)\n",
    "\n",
    "# show images\n",
    "imshow(torchvision.utils.make_grid(images))"
   ]
  },
  {
   "cell_type": "markdown",
   "id": "ba7acf07",
   "metadata": {},
   "source": [
    "### Encoder -"
   ]
  },
  {
   "cell_type": "code",
   "execution_count": 45,
   "id": "c56de596",
   "metadata": {},
   "outputs": [],
   "source": [
    "class PatchEmbed(nn.Module):\n",
    "    def __init__(self, img_size=32, patch_size=8, in_channels=3, embed_dim=512):\n",
    "        super().__init__()\n",
    "        self.img_size = img_size\n",
    "        self.patch_size = patch_size\n",
    "        self.n_patches = (img_size//patch_size)**2\n",
    "        #print(self.n_patches)\n",
    "        \n",
    "        self.proj = nn.Conv2d(in_channels, \n",
    "                              embed_dim, \n",
    "                              kernel_size=patch_size, \n",
    "                              stride=patch_size)\n",
    "        self.cls_token = nn.Parameter(torch.randn(1, 1, embed_dim))\n",
    "        \n",
    "        self.pos_embedding = nn.Parameter(torch.randn(self.n_patches+1, embed_dim))\n",
    "        \n",
    "    def forward(self, x):\n",
    "        \n",
    "        x = self.proj(x) #(batch_size, embed_dim, n_patches**0.5, n_patches**0.5)\n",
    "        x = x.flatten(2) #(batch_size, embed_dim, n_patches)\n",
    "        x = x.transpose(1, 2) #(batch_size, n_patches, embed_dim)\n",
    "        x = torch.cat([self.cls_token, x], dim=1)\n",
    "        x += self.pos_embedding\n",
    "        \n",
    "        return x\n",
    "\n",
    "\n",
    "class MLPBlock(nn.Sequential):\n",
    "    def __init__(self, emb_size, expansion=4, drop_p= 0.1):\n",
    "        super().__init__(\n",
    "            nn.Linear(emb_size, expansion * emb_size),\n",
    "            nn.ReLU(),\n",
    "            nn.Dropout(drop_p),\n",
    "            nn.Linear(expansion * emb_size, emb_size),\n",
    "        )\n",
    "\n",
    "        \n",
    "class EncoderBlock(nn.Module):\n",
    "    def __init__(self, emb_size=512, MLP_drop_p=0.1, drop_p=0.1, num_heads=4, forward_expansion=4):\n",
    "        super().__init__()\n",
    "        \n",
    "        self.layer1 = nn.LayerNorm(emb_size)\n",
    "        self.mha = nn.MultiheadAttention(embed_dim=emb_size, num_heads=num_heads, dropout=drop_p, batch_first=True)\n",
    "        self.layer2 = nn.LayerNorm(emb_size)\n",
    "        self.mlp = MLPBlock(emb_size, expansion=forward_expansion, drop_p=MLP_drop_p)\n",
    "        self.dropout = nn.Dropout(drop_p)\n",
    "    \n",
    "    def forward(self, x):\n",
    "        \n",
    "        res = x\n",
    "        x, _ = self.mha(self.layer1(x), self.layer1(x), self.layer1(x))\n",
    "        x += res\n",
    "        res = x\n",
    "        x = self.layer2(x)\n",
    "        x = self.mlp(x)\n",
    "        x = self.dropout(x)\n",
    "        x += res\n",
    "        \n",
    "        return x"
   ]
  },
  {
   "cell_type": "markdown",
   "id": "3b4f79e6",
   "metadata": {},
   "source": [
    "### Overall Model -"
   ]
  },
  {
   "cell_type": "code",
   "execution_count": 61,
   "id": "244504ae",
   "metadata": {},
   "outputs": [],
   "source": [
    "class VisionTransformer(nn.Module):\n",
    "    def __init__(self, depth, n_classes=100):\n",
    "        super().__init__()\n",
    "        \n",
    "        self.depth = depth\n",
    "        self.embedder = PatchEmbed()\n",
    "        self.encoders = nn.ModuleList([])\n",
    "        for _ in range(depth):\n",
    "            self.encoders.append(EncoderBlock())\n",
    "        self.out = nn.Sequential(nn.LayerNorm(512), nn.Linear(512, n_classes))\n",
    "    \n",
    "    def forward(self, x):\n",
    "        \n",
    "        x = self.embedder(x)\n",
    "        for module in self.encoders:\n",
    "            x = module(x)\n",
    "        x = torch.sum(x, axis=1)\n",
    "        x = self.out(x)\n",
    "        \n",
    "        return x"
   ]
  },
  {
   "cell_type": "code",
   "execution_count": 62,
   "id": "5adce087",
   "metadata": {},
   "outputs": [
    {
     "name": "stdout",
     "output_type": "stream",
     "text": [
      "VisionTransformer(\n",
      "  (embedder): PatchEmbed(\n",
      "    (proj): Conv2d(3, 512, kernel_size=(8, 8), stride=(8, 8))\n",
      "  )\n",
      "  (encoders): ModuleList(\n",
      "    (0-3): 4 x EncoderBlock(\n",
      "      (layer1): LayerNorm((512,), eps=1e-05, elementwise_affine=True)\n",
      "      (mha): MultiheadAttention(\n",
      "        (out_proj): NonDynamicallyQuantizableLinear(in_features=512, out_features=512, bias=True)\n",
      "      )\n",
      "      (layer2): LayerNorm((512,), eps=1e-05, elementwise_affine=True)\n",
      "      (mlp): MLPBlock(\n",
      "        (0): Linear(in_features=512, out_features=2048, bias=True)\n",
      "        (1): ReLU()\n",
      "        (2): Dropout(p=0.1, inplace=False)\n",
      "        (3): Linear(in_features=2048, out_features=512, bias=True)\n",
      "      )\n",
      "      (dropout): Dropout(p=0.1, inplace=False)\n",
      "    )\n",
      "  )\n",
      "  (out): Sequential(\n",
      "    (0): LayerNorm((512,), eps=1e-05, elementwise_affine=True)\n",
      "    (1): Linear(in_features=512, out_features=100, bias=True)\n",
      "  )\n",
      ")\n"
     ]
    }
   ],
   "source": [
    "print(VisionTransformer(4))"
   ]
  },
  {
   "cell_type": "markdown",
   "id": "94149bcf",
   "metadata": {},
   "source": [
    "### Loss -"
   ]
  },
  {
   "cell_type": "code",
   "execution_count": 71,
   "id": "8f767c0a",
   "metadata": {},
   "outputs": [],
   "source": [
    "def gumbel_sample(shape, eps = 1e-8):\n",
    "    \n",
    "    U = torch.rand(shape)\n",
    "    #U = U.to(device)\n",
    "    return -torch.log(-torch.log(U + eps) + eps)\n",
    "\n",
    "class loss_gumbel(nn.Module):\n",
    "    \n",
    "    def __init__(self):\n",
    "        super(loss_gumbel, self).__init__()\n",
    "    \n",
    "    def forward(self, output, target, temp):\n",
    "        \n",
    "        criterion = nn.CrossEntropyLoss()\n",
    "        y_hat = output + gumbel_sample(output.size())\n",
    "        loss = criterion(y_hat/temp, target)\n",
    "        \n",
    "        return loss"
   ]
  },
  {
   "cell_type": "markdown",
   "id": "1018e200",
   "metadata": {},
   "source": [
    "### Training -"
   ]
  },
  {
   "cell_type": "code",
   "execution_count": 72,
   "id": "b58331b6",
   "metadata": {},
   "outputs": [],
   "source": [
    "ViT = VisionTransformer(4)\n",
    "criterion = loss_gumbel()\n",
    "optimizer = optim.SGD(ViT.parameters(), lr=1e-3)"
   ]
  },
  {
   "cell_type": "code",
   "execution_count": 76,
   "id": "83bfe646",
   "metadata": {},
   "outputs": [
    {
     "name": "stdout",
     "output_type": "stream",
     "text": [
      "Epoch [1/10], Step [1/50000], Loss: 9.3257\n",
      "Epoch [1/10], Step [2/50000], Loss: 7.6250\n",
      "Epoch [1/10], Step [3/50000], Loss: 5.5436\n",
      "Epoch [1/10], Step [4/50000], Loss: 5.0114\n",
      "Epoch [1/10], Step [5/50000], Loss: 6.4892\n",
      "Epoch [1/10], Step [6/50000], Loss: 8.4927\n",
      "Epoch [1/10], Step [7/50000], Loss: 4.0464\n",
      "Epoch [1/10], Step [8/50000], Loss: 6.4015\n",
      "Epoch [1/10], Step [9/50000], Loss: 3.6842\n",
      "Epoch [1/10], Step [10/50000], Loss: 6.1821\n",
      "Epoch [1/10], Step [11/50000], Loss: 4.5147\n",
      "Epoch [1/10], Step [12/50000], Loss: 6.7881\n",
      "Epoch [1/10], Step [13/50000], Loss: 5.7600\n",
      "Epoch [1/10], Step [14/50000], Loss: 7.7245\n",
      "Epoch [1/10], Step [15/50000], Loss: 6.8620\n",
      "Epoch [1/10], Step [16/50000], Loss: 6.5871\n",
      "Epoch [1/10], Step [17/50000], Loss: 7.2910\n",
      "Epoch [1/10], Step [18/50000], Loss: 7.1655\n",
      "Epoch [1/10], Step [19/50000], Loss: 3.7437\n",
      "Epoch [1/10], Step [20/50000], Loss: 3.7043\n",
      "Epoch [1/10], Step [21/50000], Loss: 6.5489\n",
      "Epoch [1/10], Step [22/50000], Loss: 7.1812\n",
      "Epoch [1/10], Step [23/50000], Loss: 4.4534\n",
      "Epoch [1/10], Step [24/50000], Loss: 5.8015\n",
      "Epoch [1/10], Step [25/50000], Loss: 6.4974\n",
      "Epoch [1/10], Step [26/50000], Loss: 4.5405\n",
      "Epoch [1/10], Step [27/50000], Loss: 5.6838\n",
      "Epoch [1/10], Step [28/50000], Loss: 2.2177\n",
      "Epoch [1/10], Step [29/50000], Loss: 5.9674\n",
      "Epoch [1/10], Step [30/50000], Loss: 9.3007\n",
      "Epoch [1/10], Step [31/50000], Loss: 8.1334\n",
      "Epoch [1/10], Step [32/50000], Loss: 6.4058\n",
      "Epoch [1/10], Step [33/50000], Loss: 7.7178\n",
      "Epoch [1/10], Step [34/50000], Loss: 5.2848\n",
      "Epoch [1/10], Step [35/50000], Loss: 4.3326\n",
      "Epoch [1/10], Step [36/50000], Loss: 6.0488\n",
      "Epoch [1/10], Step [37/50000], Loss: 6.5219\n",
      "Epoch [1/10], Step [38/50000], Loss: 8.2407\n",
      "Epoch [1/10], Step [39/50000], Loss: 9.2106\n",
      "Epoch [1/10], Step [40/50000], Loss: 5.1127\n",
      "Epoch [1/10], Step [41/50000], Loss: 5.6163\n",
      "Epoch [1/10], Step [42/50000], Loss: 5.9418\n",
      "Epoch [1/10], Step [43/50000], Loss: 8.2994\n",
      "Epoch [1/10], Step [44/50000], Loss: 8.2744\n",
      "Epoch [1/10], Step [45/50000], Loss: 7.2057\n",
      "Epoch [1/10], Step [46/50000], Loss: 6.0633\n",
      "Epoch [1/10], Step [47/50000], Loss: 6.1660\n",
      "Epoch [1/10], Step [48/50000], Loss: 6.5378\n",
      "Epoch [1/10], Step [49/50000], Loss: 7.3575\n",
      "Epoch [1/10], Step [50/50000], Loss: 4.1158\n",
      "Epoch [1/10], Step [51/50000], Loss: 4.2561\n",
      "Epoch [1/10], Step [52/50000], Loss: 7.5297\n",
      "Epoch [1/10], Step [53/50000], Loss: 6.0816\n",
      "Epoch [1/10], Step [54/50000], Loss: 7.1424\n",
      "Epoch [1/10], Step [55/50000], Loss: 4.2204\n",
      "Epoch [1/10], Step [56/50000], Loss: 5.6393\n",
      "Epoch [1/10], Step [57/50000], Loss: 5.6729\n",
      "Epoch [1/10], Step [58/50000], Loss: 7.2440\n",
      "Epoch [1/10], Step [59/50000], Loss: 1.0538\n",
      "Epoch [1/10], Step [60/50000], Loss: 6.7081\n",
      "Epoch [1/10], Step [61/50000], Loss: 2.7213\n",
      "Epoch [1/10], Step [62/50000], Loss: 4.7422\n",
      "Epoch [1/10], Step [63/50000], Loss: 5.7207\n",
      "Epoch [1/10], Step [64/50000], Loss: 6.9596\n",
      "Epoch [1/10], Step [65/50000], Loss: 6.9398\n",
      "Epoch [1/10], Step [66/50000], Loss: 3.6191\n",
      "Epoch [1/10], Step [67/50000], Loss: 5.7067\n",
      "Epoch [1/10], Step [68/50000], Loss: 5.8892\n",
      "Epoch [1/10], Step [69/50000], Loss: 5.3261\n",
      "Epoch [1/10], Step [70/50000], Loss: 3.9983\n",
      "Epoch [1/10], Step [71/50000], Loss: 4.6459\n",
      "Epoch [1/10], Step [72/50000], Loss: 9.4624\n",
      "Epoch [1/10], Step [73/50000], Loss: 4.1892\n",
      "Epoch [1/10], Step [74/50000], Loss: 6.4036\n",
      "Epoch [1/10], Step [75/50000], Loss: 3.7105\n",
      "Epoch [1/10], Step [76/50000], Loss: 10.4733\n",
      "Epoch [1/10], Step [77/50000], Loss: 8.1564\n",
      "Epoch [1/10], Step [78/50000], Loss: 4.6945\n",
      "Epoch [1/10], Step [79/50000], Loss: 6.2284\n",
      "Epoch [1/10], Step [80/50000], Loss: 8.0183\n",
      "Epoch [1/10], Step [81/50000], Loss: 9.3631\n",
      "Epoch [1/10], Step [82/50000], Loss: 6.7068\n",
      "Epoch [1/10], Step [83/50000], Loss: 5.1968\n",
      "Epoch [1/10], Step [84/50000], Loss: 7.0640\n",
      "Epoch [1/10], Step [85/50000], Loss: 8.0066\n",
      "Epoch [1/10], Step [86/50000], Loss: 3.1214\n",
      "Epoch [1/10], Step [87/50000], Loss: 4.8071\n",
      "Epoch [1/10], Step [88/50000], Loss: 3.0201\n",
      "Epoch [1/10], Step [89/50000], Loss: 5.8359\n",
      "Epoch [1/10], Step [90/50000], Loss: 8.4584\n",
      "Epoch [1/10], Step [91/50000], Loss: 5.6038\n",
      "Epoch [1/10], Step [92/50000], Loss: 7.6420\n",
      "Epoch [1/10], Step [93/50000], Loss: 6.1666\n",
      "Epoch [1/10], Step [94/50000], Loss: 5.5315\n",
      "Epoch [1/10], Step [95/50000], Loss: 4.3824\n",
      "Epoch [1/10], Step [96/50000], Loss: 5.3950\n",
      "Epoch [1/10], Step [97/50000], Loss: 5.7358\n",
      "Epoch [1/10], Step [98/50000], Loss: 7.0026\n",
      "Epoch [1/10], Step [99/50000], Loss: 5.0455\n",
      "Epoch [1/10], Step [100/50000], Loss: 4.5627\n",
      "Epoch [1/10], Step [500/50000], Loss: 7.0719\n"
     ]
    },
    {
     "ename": "KeyboardInterrupt",
     "evalue": "",
     "output_type": "error",
     "traceback": [
      "\u001b[0;31m---------------------------------------------------------------------------\u001b[0m",
      "\u001b[0;31mKeyboardInterrupt\u001b[0m                         Traceback (most recent call last)",
      "Cell \u001b[0;32mIn[76], line 16\u001b[0m\n\u001b[1;32m     14\u001b[0m \u001b[38;5;66;03m# Backward and optimize\u001b[39;00m\n\u001b[1;32m     15\u001b[0m optimizer\u001b[38;5;241m.\u001b[39mzero_grad()\n\u001b[0;32m---> 16\u001b[0m \u001b[43mloss\u001b[49m\u001b[38;5;241;43m.\u001b[39;49m\u001b[43mbackward\u001b[49m\u001b[43m(\u001b[49m\u001b[43m)\u001b[49m\n\u001b[1;32m     17\u001b[0m optimizer\u001b[38;5;241m.\u001b[39mstep()\n\u001b[1;32m     19\u001b[0m \u001b[38;5;28;01mif\u001b[39;00m (i \u001b[38;5;241m+\u001b[39m \u001b[38;5;241m1\u001b[39m) \u001b[38;5;241m%\u001b[39m (n_total_steps\u001b[38;5;241m/\u001b[39m\u001b[38;5;241m5\u001b[39m) \u001b[38;5;241m==\u001b[39m \u001b[38;5;241m0\u001b[39m:\n",
      "File \u001b[0;32m~/anaconda3/envs/CLIPSeg/lib/python3.10/site-packages/torch/_tensor.py:487\u001b[0m, in \u001b[0;36mTensor.backward\u001b[0;34m(self, gradient, retain_graph, create_graph, inputs)\u001b[0m\n\u001b[1;32m    477\u001b[0m \u001b[38;5;28;01mif\u001b[39;00m has_torch_function_unary(\u001b[38;5;28mself\u001b[39m):\n\u001b[1;32m    478\u001b[0m     \u001b[38;5;28;01mreturn\u001b[39;00m handle_torch_function(\n\u001b[1;32m    479\u001b[0m         Tensor\u001b[38;5;241m.\u001b[39mbackward,\n\u001b[1;32m    480\u001b[0m         (\u001b[38;5;28mself\u001b[39m,),\n\u001b[0;32m   (...)\u001b[0m\n\u001b[1;32m    485\u001b[0m         inputs\u001b[38;5;241m=\u001b[39minputs,\n\u001b[1;32m    486\u001b[0m     )\n\u001b[0;32m--> 487\u001b[0m \u001b[43mtorch\u001b[49m\u001b[38;5;241;43m.\u001b[39;49m\u001b[43mautograd\u001b[49m\u001b[38;5;241;43m.\u001b[39;49m\u001b[43mbackward\u001b[49m\u001b[43m(\u001b[49m\n\u001b[1;32m    488\u001b[0m \u001b[43m    \u001b[49m\u001b[38;5;28;43mself\u001b[39;49m\u001b[43m,\u001b[49m\u001b[43m \u001b[49m\u001b[43mgradient\u001b[49m\u001b[43m,\u001b[49m\u001b[43m \u001b[49m\u001b[43mretain_graph\u001b[49m\u001b[43m,\u001b[49m\u001b[43m \u001b[49m\u001b[43mcreate_graph\u001b[49m\u001b[43m,\u001b[49m\u001b[43m \u001b[49m\u001b[43minputs\u001b[49m\u001b[38;5;241;43m=\u001b[39;49m\u001b[43minputs\u001b[49m\n\u001b[1;32m    489\u001b[0m \u001b[43m\u001b[49m\u001b[43m)\u001b[49m\n",
      "File \u001b[0;32m~/anaconda3/envs/CLIPSeg/lib/python3.10/site-packages/torch/autograd/__init__.py:200\u001b[0m, in \u001b[0;36mbackward\u001b[0;34m(tensors, grad_tensors, retain_graph, create_graph, grad_variables, inputs)\u001b[0m\n\u001b[1;32m    195\u001b[0m     retain_graph \u001b[38;5;241m=\u001b[39m create_graph\n\u001b[1;32m    197\u001b[0m \u001b[38;5;66;03m# The reason we repeat same the comment below is that\u001b[39;00m\n\u001b[1;32m    198\u001b[0m \u001b[38;5;66;03m# some Python versions print out the first line of a multi-line function\u001b[39;00m\n\u001b[1;32m    199\u001b[0m \u001b[38;5;66;03m# calls in the traceback and some print out the last line\u001b[39;00m\n\u001b[0;32m--> 200\u001b[0m \u001b[43mVariable\u001b[49m\u001b[38;5;241;43m.\u001b[39;49m\u001b[43m_execution_engine\u001b[49m\u001b[38;5;241;43m.\u001b[39;49m\u001b[43mrun_backward\u001b[49m\u001b[43m(\u001b[49m\u001b[43m  \u001b[49m\u001b[38;5;66;43;03m# Calls into the C++ engine to run the backward pass\u001b[39;49;00m\n\u001b[1;32m    201\u001b[0m \u001b[43m    \u001b[49m\u001b[43mtensors\u001b[49m\u001b[43m,\u001b[49m\u001b[43m \u001b[49m\u001b[43mgrad_tensors_\u001b[49m\u001b[43m,\u001b[49m\u001b[43m \u001b[49m\u001b[43mretain_graph\u001b[49m\u001b[43m,\u001b[49m\u001b[43m \u001b[49m\u001b[43mcreate_graph\u001b[49m\u001b[43m,\u001b[49m\u001b[43m \u001b[49m\u001b[43minputs\u001b[49m\u001b[43m,\u001b[49m\n\u001b[1;32m    202\u001b[0m \u001b[43m    \u001b[49m\u001b[43mallow_unreachable\u001b[49m\u001b[38;5;241;43m=\u001b[39;49m\u001b[38;5;28;43;01mTrue\u001b[39;49;00m\u001b[43m,\u001b[49m\u001b[43m \u001b[49m\u001b[43maccumulate_grad\u001b[49m\u001b[38;5;241;43m=\u001b[39;49m\u001b[38;5;28;43;01mTrue\u001b[39;49;00m\u001b[43m)\u001b[49m\n",
      "\u001b[0;31mKeyboardInterrupt\u001b[0m: "
     ]
    }
   ],
   "source": [
    "loss_hist = []\n",
    "iter_no = []\n",
    "n_total_steps = len(train_loader)\n",
    "times = []\n",
    "current = time.time()\n",
    "for epoch in range(num_epochs):\n",
    "    for i, (images, labels) in enumerate(train_loader):\n",
    "        # origin shape: [1, 3, 32, 32] = 1, 3, 1024\n",
    "\n",
    "        # Forward pass\n",
    "        outputs = ViT(images)\n",
    "        loss = criterion(outputs, labels, 0.9)\n",
    "\n",
    "        # Backward and optimize\n",
    "        optimizer.zero_grad()\n",
    "        loss.backward()\n",
    "        optimizer.step()\n",
    "        \n",
    "        if (i + 1) % (n_total_steps/5) == 0:\n",
    "            loss_hist.append(loss.item())\n",
    "            iter_no.append(i + epoch*n_total_steps)\n",
    "        \n",
    "        if i < 10:\n",
    "            print(f'Epoch [{epoch+1}/{num_epochs}], Step [{i+1}/{n_total_steps}], Loss: {loss.item():.4f}')\n",
    "\n",
    "        if (i + 1) % (n_total_steps/10) == 0:\n",
    "            print(f'Epoch [{epoch+1}/{num_epochs}], Step [{i+1}/{n_total_steps}], Loss: {loss.item():.4f}')\n",
    "    \n",
    "    times.append(time.time() - current)\n",
    "    current = time.time()\n",
    "        \n",
    "avg_time = sum(times)/len(times)\n",
    "\n",
    "print('Finished Training')"
   ]
  },
  {
   "cell_type": "markdown",
   "id": "3fe99887",
   "metadata": {},
   "source": [
    "### Model Evaluation -"
   ]
  },
  {
   "cell_type": "code",
   "execution_count": null,
   "id": "d73f731d",
   "metadata": {},
   "outputs": [],
   "source": [
    "plt.plot(iter_no, loss_hist)\n",
    "plt.title(\"iterations vs loss\")"
   ]
  },
  {
   "cell_type": "code",
   "execution_count": null,
   "id": "224b2c12",
   "metadata": {},
   "outputs": [],
   "source": [
    "print(f\"With gumbel softmax, each epoch lasted {avg_time}s\")"
   ]
  },
  {
   "cell_type": "code",
   "execution_count": null,
   "id": "6586cb21",
   "metadata": {},
   "outputs": [],
   "source": [
    "with torch.no_grad():\n",
    "    confusion_matrix = np.zeros((100, 100))\n",
    "    n_correct = 0\n",
    "    n_samples = 0\n",
    "    for images, labels in test_loader:\n",
    "        outputs = ViT(images)\n",
    "        # max returns (value ,index)\n",
    "        _, predicted = torch.max(outputs, 1)\n",
    "        for i in range(batch_size):\n",
    "            confusion_matrix[labels[i]][predicted[i]] += 1\n",
    "        n_samples += labels.size(0)\n",
    "        n_correct += (predicted == labels).sum().item()\n",
    "\n",
    "    acc = 100.0 * n_correct / n_samples\n",
    "    print(f'Accuracy of the network: {acc} %')\n",
    "    \n",
    "    plt.imshow(confusion_matrix, cmap = 'gray')\n",
    "    plt.title('CONFUSION MATRIX - ')\n",
    "    plt.show()\n",
    "    \n",
    "    print(confusion_matrix)\n",
    "    \n",
    "    precision = np.zeros((100,))\n",
    "    recall = np.zeros((100,))\n",
    "    \n",
    "    for classes in range(100):\n",
    "        if(np.sum(confusion_matrix[:,classes]) > 0):\n",
    "            precision[classes] = confusion_matrix[classes][classes]/np.sum(confusion_matrix[:,classes])\n",
    "        else:\n",
    "            precision[classes] = 0\n",
    "        if(np.sum(confusion_matrix[classes,:]) > 0):    \n",
    "            recall[classes] = confusion_matrix[classes][classes]/np.sum(confusion_matrix[classes,:])\n",
    "        else:\n",
    "            recall[classes] = 0\n",
    "    \n",
    "    max_p = precision[np.argmax(precision)]\n",
    "    \n",
    "    print(f'max precision at class - {np.argmax(precision)} = {max_p*100}%')"
   ]
  },
  {
   "cell_type": "code",
   "execution_count": 77,
   "id": "f18b93c4",
   "metadata": {},
   "outputs": [
    {
     "ename": "NameError",
     "evalue": "name 'confusion_matrix' is not defined",
     "output_type": "error",
     "traceback": [
      "\u001b[0;31m---------------------------------------------------------------------------\u001b[0m",
      "\u001b[0;31mNameError\u001b[0m                                 Traceback (most recent call last)",
      "Cell \u001b[0;32mIn[77], line 4\u001b[0m\n\u001b[1;32m      2\u001b[0m recall \u001b[38;5;241m=\u001b[39m \u001b[38;5;241m0\u001b[39m\n\u001b[1;32m      3\u001b[0m \u001b[38;5;28;01mfor\u001b[39;00m classes \u001b[38;5;129;01min\u001b[39;00m \u001b[38;5;28mrange\u001b[39m(\u001b[38;5;241m100\u001b[39m):\n\u001b[0;32m----> 4\u001b[0m     \u001b[38;5;28;01mif\u001b[39;00m(np\u001b[38;5;241m.\u001b[39msum(\u001b[43mconfusion_matrix\u001b[49m[:,classes]) \u001b[38;5;241m>\u001b[39m \u001b[38;5;241m0\u001b[39m):\n\u001b[1;32m      5\u001b[0m         precision_N \u001b[38;5;241m+\u001b[39m\u001b[38;5;241m=\u001b[39m confusion_matrix[classes][classes]\u001b[38;5;241m/\u001b[39mnp\u001b[38;5;241m.\u001b[39msum(confusion_matrix[:,classes])\n\u001b[1;32m      6\u001b[0m     \u001b[38;5;28;01mif\u001b[39;00m(np\u001b[38;5;241m.\u001b[39msum(confusion_matrix[classes,:]) \u001b[38;5;241m>\u001b[39m \u001b[38;5;241m0\u001b[39m):    \n",
      "\u001b[0;31mNameError\u001b[0m: name 'confusion_matrix' is not defined"
     ]
    }
   ],
   "source": [
    "precision = 0\n",
    "recall = 0\n",
    "for classes in range(100):\n",
    "    if(np.sum(confusion_matrix[:,classes]) > 0):\n",
    "        precision_N += confusion_matrix[classes][classes]/np.sum(confusion_matrix[:,classes])\n",
    "    if(np.sum(confusion_matrix[classes,:]) > 0):    \n",
    "        recall_N += confusion_matrix[classes][classes]/np.sum(confusion_matrix[classes,:])\n",
    "        \n",
    "precision /= 100\n",
    "recall /= 100\n",
    "\n",
    "F1 = 2/((1/precision) + (1/recall))"
   ]
  },
  {
   "cell_type": "code",
   "execution_count": null,
   "id": "cc45b7bd",
   "metadata": {},
   "outputs": [],
   "source": [
    "print(f\"Precision - {precision:.4f}, Recall - {recall:.4f} and F1-score is - {F1:.4f}\")"
   ]
  }
 ],
 "metadata": {
  "kernelspec": {
   "display_name": "Python 3 (ipykernel)",
   "language": "python",
   "name": "python3"
  },
  "language_info": {
   "codemirror_mode": {
    "name": "ipython",
    "version": 3
   },
   "file_extension": ".py",
   "mimetype": "text/x-python",
   "name": "python",
   "nbconvert_exporter": "python",
   "pygments_lexer": "ipython3",
   "version": "3.10.11"
  }
 },
 "nbformat": 4,
 "nbformat_minor": 5
}
