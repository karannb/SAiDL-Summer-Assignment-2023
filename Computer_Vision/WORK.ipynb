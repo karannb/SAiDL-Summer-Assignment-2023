{
 "cells": [
  {
   "cell_type": "code",
   "execution_count": 11,
   "id": "36c5522e",
   "metadata": {},
   "outputs": [],
   "source": [
    "from PIL import Image, ImageDraw\n",
    "import numpy as np\n",
    "import matplotlib.pyplot as plt\n",
    "from PhraseCutDataset.utils.file_paths import img_fpath, img_fpath2\n",
    "from PhraseCutDataset.utils.refvg_loader import RefVGLoader\n",
    "plt.switch_backend('agg')\n",
    "import pandas as pd\n",
    "\n",
    "def generator(split = None, pred_mask = 'Greys'):\n",
    "    \n",
    "    if split is not None:\n",
    "        \n",
    "        import os\n",
    "        \n",
    "        refvg = RefVGLoader(split=split)\n",
    "        df_temp = pd.read_csv(f'data_{split}.csv')\n",
    "        \n",
    "        list_ids = list(set(df_temp['image_id'][1:]))\n",
    "        \n",
    "        for i in range(len(list_ids)):\n",
    "            \n",
    "            img_id = list_ids[i]\n",
    "            \n",
    "            img_ref_data = refvg.get_img_ref_data(img_id)\n",
    "            \n",
    "            Polygons = img_ref_data['gt_Polygons']\n",
    "            \n",
    "            task_ids = img_ref_data['task_ids']\n",
    "            \n",
    "            j = 0\n",
    "            \n",
    "            for task_i, task_id in enumerate(task_ids):\n",
    "                \n",
    "                img = Image.open(os.path.join(img_fpath[split],\n",
    "                                              '%d.jpg' % img_id))\n",
    "                \n",
    "                img_n = np.array(img)\n",
    "\n",
    "                h, w = img_n.shape[1], img_n.shape[0]\n",
    "                \n",
    "                polygon_list = Polygons[task_i]\n",
    "                \n",
    "                mask = Image.new('L', (h, w), 0)\n",
    "                \n",
    "                for polygon_coords in polygon_list:\n",
    "                    \n",
    "                    p_m = []\n",
    "                    \n",
    "                    for p in polygon_coords:\n",
    "                        \n",
    "                        for x, y in p:\n",
    "                        \n",
    "                            p_m.append((int(x), int(y)))\n",
    "    \n",
    "                        ImageDraw.Draw(mask, mode = 'L').polygon(p_m, fill = 255, outline = 1)\n",
    "                \n",
    "                mask.save(f\"PhraseCutDataset/data/VGPhraseCut_v0/output_{split}/{task_ids[j]}.jpg\")\n",
    "                j += 1\n",
    "    print(\"DONE!\")"
   ]
  },
  {
   "cell_type": "code",
   "execution_count": 12,
   "id": "1b8ca6b3",
   "metadata": {
    "scrolled": false
   },
   "outputs": [
    {
     "name": "stdout",
     "output_type": "stream",
     "text": [
      "PhraseHandler loading nar_count: /Users/karan_bania/Desktop/SAiDL/SAiDL Summer 2023/Computer_Vision/PhraseCutDataset/data/VGPhraseCut_v0/name_att_rel_count.json\n",
      "Number of categories: 1272 / 3103, frequency thresh: 21 (excluding [INV] [UNK])\n",
      "Number of attributes: 593 / 12143, frequency thresh: 21 (excluding [INV] [UNK])\n",
      "Number of relationships: 126 / 3110, frequency thresh: 21 (excluding [INV] [UNK])\n",
      "RefVGLoader loading img_info: /Users/karan_bania/Desktop/SAiDL/SAiDL Summer 2023/Computer_Vision/PhraseCutDataset/data/VGPhraseCut_v0/image_data_split.json\n",
      "RefVGLoader loading refer data\n",
      "RefVGLoader loading /Users/karan_bania/Desktop/SAiDL/SAiDL Summer 2023/Computer_Vision/PhraseCutDataset/data/VGPhraseCut_v0/refer_val.json\n",
      "RefVGLoader preparing data\n",
      "split val: 2871 imgs, 19495 tasks\n",
      "RefVGLoader ready.\n",
      "DONE!\n"
     ]
    }
   ],
   "source": [
    "generator(split = 'val')"
   ]
  },
  {
   "cell_type": "code",
   "execution_count": 13,
   "id": "bf554ee8",
   "metadata": {},
   "outputs": [
    {
     "name": "stdout",
     "output_type": "stream",
     "text": [
      "PhraseHandler loading nar_count: /Users/karan_bania/Desktop/SAiDL/SAiDL Summer 2023/Computer_Vision/PhraseCutDataset/data/VGPhraseCut_v0/name_att_rel_count.json\n",
      "Number of categories: 1272 / 3103, frequency thresh: 21 (excluding [INV] [UNK])\n",
      "Number of attributes: 593 / 12143, frequency thresh: 21 (excluding [INV] [UNK])\n",
      "Number of relationships: 126 / 3110, frequency thresh: 21 (excluding [INV] [UNK])\n",
      "RefVGLoader loading img_info: /Users/karan_bania/Desktop/SAiDL/SAiDL Summer 2023/Computer_Vision/PhraseCutDataset/data/VGPhraseCut_v0/image_data_split.json\n",
      "RefVGLoader loading refer data\n",
      "RefVGLoader loading /Users/karan_bania/Desktop/SAiDL/SAiDL Summer 2023/Computer_Vision/PhraseCutDataset/data/VGPhraseCut_v0/refer_train.json\n",
      "RefVGLoader preparing data\n",
      "split train: 71746 imgs, 310816 tasks\n",
      "RefVGLoader ready.\n",
      "DONE!\n"
     ]
    }
   ],
   "source": [
    "generator(split='train')"
   ]
  },
  {
   "cell_type": "code",
   "execution_count": null,
   "id": "0334c15d",
   "metadata": {},
   "outputs": [],
   "source": []
  }
 ],
 "metadata": {
  "kernelspec": {
   "display_name": "CLIPSeg",
   "language": "python",
   "name": "clipseg"
  },
  "language_info": {
   "codemirror_mode": {
    "name": "ipython",
    "version": 3
   },
   "file_extension": ".py",
   "mimetype": "text/x-python",
   "name": "python",
   "nbconvert_exporter": "python",
   "pygments_lexer": "ipython3",
   "version": "3.10.11"
  }
 },
 "nbformat": 4,
 "nbformat_minor": 5
}
